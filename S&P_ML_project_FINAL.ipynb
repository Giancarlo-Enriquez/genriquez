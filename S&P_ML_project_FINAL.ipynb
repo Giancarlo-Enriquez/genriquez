{
  "nbformat": 4,
  "nbformat_minor": 0,
  "metadata": {
    "colab": {
      "provenance": []
    },
    "kernelspec": {
      "name": "python3",
      "display_name": "Python 3"
    },
    "language_info": {
      "name": "python"
    }
  },
  "cells": [
    {
      "cell_type": "markdown",
      "source": [
        "## Feature Engineering"
      ],
      "metadata": {
        "id": "24ZpiDdLSI2v"
      }
    },
    {
      "cell_type": "markdown",
      "source": [
        "\n",
        "*   The fourth project is the development of a notebook (code + explanation) that successfully engineers 12 unique types of features, **three** for each type of feature engineering: **transforming**, **interacting**, **mapping**, and **extracting**.\n",
        "* The second part of the assignment is the development of a **deep learning classification** model to predict the direction of the S&P500 for the dates **2018-01-01—2018-07-12** (test set).\n",
        "* The feature engineering section is unrelated to the model section, you can develop any features, not just features that would work for deep learning models (later on you can decide which features to use in your model).\n",
        "*  You also have to uncomment all the example features and make them run successfully  → **every** feature example has some error/s that you have to fix. Please also describe the error you fixed!\n",
        "*   Note that we *won't* be attempting to measure the quality of every feature (i.e., how much it improves the model), that is slightly too advanced for this course.\n"
      ],
      "metadata": {
        "id": "5ME79KRZSLdL"
      }
    },
    {
      "cell_type": "code",
      "execution_count": 1,
      "metadata": {
        "id": "KK3ah2-KR7Mc"
      },
      "outputs": [],
      "source": [
        "import pandas as pd\n",
        "import numpy as np\n",
        "import matplotlib.pyplot as plt\n",
        "import matplotlib.patches as mpatches\n",
        "import seaborn as sns"
      ]
    },
    {
      "cell_type": "markdown",
      "source": [
        "Preparing the Data"
      ],
      "metadata": {
        "id": "y8DfulTBSAXT"
      }
    },
    {
      "cell_type": "code",
      "source": [
        "# preparing our data\n",
        "raw_prices = pd.read_csv(\"https://storage.googleapis.com/sovai-public/random/assetalloc.csv\", sep=';', parse_dates=True, index_col='Dates', dayfirst=True)\n",
        "df = raw_prices.sort_values(by='Dates')\n",
        "df[\"target\"] = df[\"SP500\"].pct_change().shift(-1)\n",
        "df[\"target\"] = np.where(df[\"target\"]>0,1,0)\n",
        "df.head()"
      ],
      "metadata": {
        "colab": {
          "base_uri": "https://localhost:8080/",
          "height": 237
        },
        "id": "F8Rf5rSWR-O4",
        "outputId": "aa0ac16d-2dae-4223-d0f7-bc398a41c072"
      },
      "execution_count": 2,
      "outputs": [
        {
          "output_type": "execute_result",
          "data": {
            "text/plain": [
              "              FTSE  EuroStoxx50   SP500    Gold  French-2Y  French-5Y  \\\n",
              "Dates                                                                   \n",
              "1989-02-01  2039.7       875.47  297.09  392.50     99.081     99.039   \n",
              "1989-02-02  2043.4       878.08  296.84  392.00     98.898     99.117   \n",
              "1989-02-03  2069.9       884.09  296.97  388.75     98.907     99.002   \n",
              "1989-02-06  2044.3       885.49  296.04  388.00     98.484     98.502   \n",
              "1989-02-07  2072.8       883.82  299.63  392.75     98.438     98.312   \n",
              "\n",
              "            French-10Y  French-30Y    US-2Y    US-5Y   US-10Y   US-30Y  \\\n",
              "Dates                                                                    \n",
              "1989-02-01      99.572     100.000  100.031  100.345  101.080  101.936   \n",
              "1989-02-02      99.278      99.692  100.000  100.314  101.017  101.905   \n",
              "1989-02-03      99.145      99.178   99.812  100.062  100.921  101.718   \n",
              "1989-02-06      98.510      97.739   99.812  100.062  100.794  101.468   \n",
              "1989-02-07      98.292      97.688   99.906  100.251  101.144  102.092   \n",
              "\n",
              "            Russel2000  EuroStox_Small  FTSE_Small  MSCI_EM     CRB  target  \n",
              "Dates                                                                        \n",
              "1989-02-01      154.38          117.50     1636.57  133.584  286.67       0  \n",
              "1989-02-02      154.94          117.69     1642.94  135.052  287.03       1  \n",
              "1989-02-03      155.69          118.62     1659.11  137.134  285.63       0  \n",
              "1989-02-06      155.58          118.89     1656.86  137.037  284.69       1  \n",
              "1989-02-07      156.84          118.28     1662.76  136.914  284.21       0  "
            ],
            "text/html": [
              "\n",
              "  <div id=\"df-5d0cba0d-896a-403b-85de-41d37af5f835\" class=\"colab-df-container\">\n",
              "    <div>\n",
              "<style scoped>\n",
              "    .dataframe tbody tr th:only-of-type {\n",
              "        vertical-align: middle;\n",
              "    }\n",
              "\n",
              "    .dataframe tbody tr th {\n",
              "        vertical-align: top;\n",
              "    }\n",
              "\n",
              "    .dataframe thead th {\n",
              "        text-align: right;\n",
              "    }\n",
              "</style>\n",
              "<table border=\"1\" class=\"dataframe\">\n",
              "  <thead>\n",
              "    <tr style=\"text-align: right;\">\n",
              "      <th></th>\n",
              "      <th>FTSE</th>\n",
              "      <th>EuroStoxx50</th>\n",
              "      <th>SP500</th>\n",
              "      <th>Gold</th>\n",
              "      <th>French-2Y</th>\n",
              "      <th>French-5Y</th>\n",
              "      <th>French-10Y</th>\n",
              "      <th>French-30Y</th>\n",
              "      <th>US-2Y</th>\n",
              "      <th>US-5Y</th>\n",
              "      <th>US-10Y</th>\n",
              "      <th>US-30Y</th>\n",
              "      <th>Russel2000</th>\n",
              "      <th>EuroStox_Small</th>\n",
              "      <th>FTSE_Small</th>\n",
              "      <th>MSCI_EM</th>\n",
              "      <th>CRB</th>\n",
              "      <th>target</th>\n",
              "    </tr>\n",
              "    <tr>\n",
              "      <th>Dates</th>\n",
              "      <th></th>\n",
              "      <th></th>\n",
              "      <th></th>\n",
              "      <th></th>\n",
              "      <th></th>\n",
              "      <th></th>\n",
              "      <th></th>\n",
              "      <th></th>\n",
              "      <th></th>\n",
              "      <th></th>\n",
              "      <th></th>\n",
              "      <th></th>\n",
              "      <th></th>\n",
              "      <th></th>\n",
              "      <th></th>\n",
              "      <th></th>\n",
              "      <th></th>\n",
              "      <th></th>\n",
              "    </tr>\n",
              "  </thead>\n",
              "  <tbody>\n",
              "    <tr>\n",
              "      <th>1989-02-01</th>\n",
              "      <td>2039.7</td>\n",
              "      <td>875.47</td>\n",
              "      <td>297.09</td>\n",
              "      <td>392.50</td>\n",
              "      <td>99.081</td>\n",
              "      <td>99.039</td>\n",
              "      <td>99.572</td>\n",
              "      <td>100.000</td>\n",
              "      <td>100.031</td>\n",
              "      <td>100.345</td>\n",
              "      <td>101.080</td>\n",
              "      <td>101.936</td>\n",
              "      <td>154.38</td>\n",
              "      <td>117.50</td>\n",
              "      <td>1636.57</td>\n",
              "      <td>133.584</td>\n",
              "      <td>286.67</td>\n",
              "      <td>0</td>\n",
              "    </tr>\n",
              "    <tr>\n",
              "      <th>1989-02-02</th>\n",
              "      <td>2043.4</td>\n",
              "      <td>878.08</td>\n",
              "      <td>296.84</td>\n",
              "      <td>392.00</td>\n",
              "      <td>98.898</td>\n",
              "      <td>99.117</td>\n",
              "      <td>99.278</td>\n",
              "      <td>99.692</td>\n",
              "      <td>100.000</td>\n",
              "      <td>100.314</td>\n",
              "      <td>101.017</td>\n",
              "      <td>101.905</td>\n",
              "      <td>154.94</td>\n",
              "      <td>117.69</td>\n",
              "      <td>1642.94</td>\n",
              "      <td>135.052</td>\n",
              "      <td>287.03</td>\n",
              "      <td>1</td>\n",
              "    </tr>\n",
              "    <tr>\n",
              "      <th>1989-02-03</th>\n",
              "      <td>2069.9</td>\n",
              "      <td>884.09</td>\n",
              "      <td>296.97</td>\n",
              "      <td>388.75</td>\n",
              "      <td>98.907</td>\n",
              "      <td>99.002</td>\n",
              "      <td>99.145</td>\n",
              "      <td>99.178</td>\n",
              "      <td>99.812</td>\n",
              "      <td>100.062</td>\n",
              "      <td>100.921</td>\n",
              "      <td>101.718</td>\n",
              "      <td>155.69</td>\n",
              "      <td>118.62</td>\n",
              "      <td>1659.11</td>\n",
              "      <td>137.134</td>\n",
              "      <td>285.63</td>\n",
              "      <td>0</td>\n",
              "    </tr>\n",
              "    <tr>\n",
              "      <th>1989-02-06</th>\n",
              "      <td>2044.3</td>\n",
              "      <td>885.49</td>\n",
              "      <td>296.04</td>\n",
              "      <td>388.00</td>\n",
              "      <td>98.484</td>\n",
              "      <td>98.502</td>\n",
              "      <td>98.510</td>\n",
              "      <td>97.739</td>\n",
              "      <td>99.812</td>\n",
              "      <td>100.062</td>\n",
              "      <td>100.794</td>\n",
              "      <td>101.468</td>\n",
              "      <td>155.58</td>\n",
              "      <td>118.89</td>\n",
              "      <td>1656.86</td>\n",
              "      <td>137.037</td>\n",
              "      <td>284.69</td>\n",
              "      <td>1</td>\n",
              "    </tr>\n",
              "    <tr>\n",
              "      <th>1989-02-07</th>\n",
              "      <td>2072.8</td>\n",
              "      <td>883.82</td>\n",
              "      <td>299.63</td>\n",
              "      <td>392.75</td>\n",
              "      <td>98.438</td>\n",
              "      <td>98.312</td>\n",
              "      <td>98.292</td>\n",
              "      <td>97.688</td>\n",
              "      <td>99.906</td>\n",
              "      <td>100.251</td>\n",
              "      <td>101.144</td>\n",
              "      <td>102.092</td>\n",
              "      <td>156.84</td>\n",
              "      <td>118.28</td>\n",
              "      <td>1662.76</td>\n",
              "      <td>136.914</td>\n",
              "      <td>284.21</td>\n",
              "      <td>0</td>\n",
              "    </tr>\n",
              "  </tbody>\n",
              "</table>\n",
              "</div>\n",
              "    <div class=\"colab-df-buttons\">\n",
              "\n",
              "  <div class=\"colab-df-container\">\n",
              "    <button class=\"colab-df-convert\" onclick=\"convertToInteractive('df-5d0cba0d-896a-403b-85de-41d37af5f835')\"\n",
              "            title=\"Convert this dataframe to an interactive table.\"\n",
              "            style=\"display:none;\">\n",
              "\n",
              "  <svg xmlns=\"http://www.w3.org/2000/svg\" height=\"24px\" viewBox=\"0 -960 960 960\">\n",
              "    <path d=\"M120-120v-720h720v720H120Zm60-500h600v-160H180v160Zm220 220h160v-160H400v160Zm0 220h160v-160H400v160ZM180-400h160v-160H180v160Zm440 0h160v-160H620v160ZM180-180h160v-160H180v160Zm440 0h160v-160H620v160Z\"/>\n",
              "  </svg>\n",
              "    </button>\n",
              "\n",
              "  <style>\n",
              "    .colab-df-container {\n",
              "      display:flex;\n",
              "      gap: 12px;\n",
              "    }\n",
              "\n",
              "    .colab-df-convert {\n",
              "      background-color: #E8F0FE;\n",
              "      border: none;\n",
              "      border-radius: 50%;\n",
              "      cursor: pointer;\n",
              "      display: none;\n",
              "      fill: #1967D2;\n",
              "      height: 32px;\n",
              "      padding: 0 0 0 0;\n",
              "      width: 32px;\n",
              "    }\n",
              "\n",
              "    .colab-df-convert:hover {\n",
              "      background-color: #E2EBFA;\n",
              "      box-shadow: 0px 1px 2px rgba(60, 64, 67, 0.3), 0px 1px 3px 1px rgba(60, 64, 67, 0.15);\n",
              "      fill: #174EA6;\n",
              "    }\n",
              "\n",
              "    .colab-df-buttons div {\n",
              "      margin-bottom: 4px;\n",
              "    }\n",
              "\n",
              "    [theme=dark] .colab-df-convert {\n",
              "      background-color: #3B4455;\n",
              "      fill: #D2E3FC;\n",
              "    }\n",
              "\n",
              "    [theme=dark] .colab-df-convert:hover {\n",
              "      background-color: #434B5C;\n",
              "      box-shadow: 0px 1px 3px 1px rgba(0, 0, 0, 0.15);\n",
              "      filter: drop-shadow(0px 1px 2px rgba(0, 0, 0, 0.3));\n",
              "      fill: #FFFFFF;\n",
              "    }\n",
              "  </style>\n",
              "\n",
              "    <script>\n",
              "      const buttonEl =\n",
              "        document.querySelector('#df-5d0cba0d-896a-403b-85de-41d37af5f835 button.colab-df-convert');\n",
              "      buttonEl.style.display =\n",
              "        google.colab.kernel.accessAllowed ? 'block' : 'none';\n",
              "\n",
              "      async function convertToInteractive(key) {\n",
              "        const element = document.querySelector('#df-5d0cba0d-896a-403b-85de-41d37af5f835');\n",
              "        const dataTable =\n",
              "          await google.colab.kernel.invokeFunction('convertToInteractive',\n",
              "                                                    [key], {});\n",
              "        if (!dataTable) return;\n",
              "\n",
              "        const docLinkHtml = 'Like what you see? Visit the ' +\n",
              "          '<a target=\"_blank\" href=https://colab.research.google.com/notebooks/data_table.ipynb>data table notebook</a>'\n",
              "          + ' to learn more about interactive tables.';\n",
              "        element.innerHTML = '';\n",
              "        dataTable['output_type'] = 'display_data';\n",
              "        await google.colab.output.renderOutput(dataTable, element);\n",
              "        const docLink = document.createElement('div');\n",
              "        docLink.innerHTML = docLinkHtml;\n",
              "        element.appendChild(docLink);\n",
              "      }\n",
              "    </script>\n",
              "  </div>\n",
              "\n",
              "\n",
              "<div id=\"df-86a86a99-2833-4100-b510-52ce733afc9e\">\n",
              "  <button class=\"colab-df-quickchart\" onclick=\"quickchart('df-86a86a99-2833-4100-b510-52ce733afc9e')\"\n",
              "            title=\"Suggest charts\"\n",
              "            style=\"display:none;\">\n",
              "\n",
              "<svg xmlns=\"http://www.w3.org/2000/svg\" height=\"24px\"viewBox=\"0 0 24 24\"\n",
              "     width=\"24px\">\n",
              "    <g>\n",
              "        <path d=\"M19 3H5c-1.1 0-2 .9-2 2v14c0 1.1.9 2 2 2h14c1.1 0 2-.9 2-2V5c0-1.1-.9-2-2-2zM9 17H7v-7h2v7zm4 0h-2V7h2v10zm4 0h-2v-4h2v4z\"/>\n",
              "    </g>\n",
              "</svg>\n",
              "  </button>\n",
              "\n",
              "<style>\n",
              "  .colab-df-quickchart {\n",
              "      --bg-color: #E8F0FE;\n",
              "      --fill-color: #1967D2;\n",
              "      --hover-bg-color: #E2EBFA;\n",
              "      --hover-fill-color: #174EA6;\n",
              "      --disabled-fill-color: #AAA;\n",
              "      --disabled-bg-color: #DDD;\n",
              "  }\n",
              "\n",
              "  [theme=dark] .colab-df-quickchart {\n",
              "      --bg-color: #3B4455;\n",
              "      --fill-color: #D2E3FC;\n",
              "      --hover-bg-color: #434B5C;\n",
              "      --hover-fill-color: #FFFFFF;\n",
              "      --disabled-bg-color: #3B4455;\n",
              "      --disabled-fill-color: #666;\n",
              "  }\n",
              "\n",
              "  .colab-df-quickchart {\n",
              "    background-color: var(--bg-color);\n",
              "    border: none;\n",
              "    border-radius: 50%;\n",
              "    cursor: pointer;\n",
              "    display: none;\n",
              "    fill: var(--fill-color);\n",
              "    height: 32px;\n",
              "    padding: 0;\n",
              "    width: 32px;\n",
              "  }\n",
              "\n",
              "  .colab-df-quickchart:hover {\n",
              "    background-color: var(--hover-bg-color);\n",
              "    box-shadow: 0 1px 2px rgba(60, 64, 67, 0.3), 0 1px 3px 1px rgba(60, 64, 67, 0.15);\n",
              "    fill: var(--button-hover-fill-color);\n",
              "  }\n",
              "\n",
              "  .colab-df-quickchart-complete:disabled,\n",
              "  .colab-df-quickchart-complete:disabled:hover {\n",
              "    background-color: var(--disabled-bg-color);\n",
              "    fill: var(--disabled-fill-color);\n",
              "    box-shadow: none;\n",
              "  }\n",
              "\n",
              "  .colab-df-spinner {\n",
              "    border: 2px solid var(--fill-color);\n",
              "    border-color: transparent;\n",
              "    border-bottom-color: var(--fill-color);\n",
              "    animation:\n",
              "      spin 1s steps(1) infinite;\n",
              "  }\n",
              "\n",
              "  @keyframes spin {\n",
              "    0% {\n",
              "      border-color: transparent;\n",
              "      border-bottom-color: var(--fill-color);\n",
              "      border-left-color: var(--fill-color);\n",
              "    }\n",
              "    20% {\n",
              "      border-color: transparent;\n",
              "      border-left-color: var(--fill-color);\n",
              "      border-top-color: var(--fill-color);\n",
              "    }\n",
              "    30% {\n",
              "      border-color: transparent;\n",
              "      border-left-color: var(--fill-color);\n",
              "      border-top-color: var(--fill-color);\n",
              "      border-right-color: var(--fill-color);\n",
              "    }\n",
              "    40% {\n",
              "      border-color: transparent;\n",
              "      border-right-color: var(--fill-color);\n",
              "      border-top-color: var(--fill-color);\n",
              "    }\n",
              "    60% {\n",
              "      border-color: transparent;\n",
              "      border-right-color: var(--fill-color);\n",
              "    }\n",
              "    80% {\n",
              "      border-color: transparent;\n",
              "      border-right-color: var(--fill-color);\n",
              "      border-bottom-color: var(--fill-color);\n",
              "    }\n",
              "    90% {\n",
              "      border-color: transparent;\n",
              "      border-bottom-color: var(--fill-color);\n",
              "    }\n",
              "  }\n",
              "</style>\n",
              "\n",
              "  <script>\n",
              "    async function quickchart(key) {\n",
              "      const quickchartButtonEl =\n",
              "        document.querySelector('#' + key + ' button');\n",
              "      quickchartButtonEl.disabled = true;  // To prevent multiple clicks.\n",
              "      quickchartButtonEl.classList.add('colab-df-spinner');\n",
              "      try {\n",
              "        const charts = await google.colab.kernel.invokeFunction(\n",
              "            'suggestCharts', [key], {});\n",
              "      } catch (error) {\n",
              "        console.error('Error during call to suggestCharts:', error);\n",
              "      }\n",
              "      quickchartButtonEl.classList.remove('colab-df-spinner');\n",
              "      quickchartButtonEl.classList.add('colab-df-quickchart-complete');\n",
              "    }\n",
              "    (() => {\n",
              "      let quickchartButtonEl =\n",
              "        document.querySelector('#df-86a86a99-2833-4100-b510-52ce733afc9e button');\n",
              "      quickchartButtonEl.style.display =\n",
              "        google.colab.kernel.accessAllowed ? 'block' : 'none';\n",
              "    })();\n",
              "  </script>\n",
              "</div>\n",
              "    </div>\n",
              "  </div>\n"
            ],
            "application/vnd.google.colaboratory.intrinsic+json": {
              "type": "dataframe",
              "variable_name": "df",
              "summary": "{\n  \"name\": \"df\",\n  \"rows\": 7682,\n  \"fields\": [\n    {\n      \"column\": \"Dates\",\n      \"properties\": {\n        \"dtype\": \"date\",\n        \"min\": \"1989-02-01 00:00:00\",\n        \"max\": \"2018-07-12 00:00:00\",\n        \"num_unique_values\": 7682,\n        \"samples\": [\n          \"1997-06-26 00:00:00\",\n          \"1999-02-12 00:00:00\",\n          \"2012-01-24 00:00:00\"\n        ],\n        \"semantic_type\": \"\",\n        \"description\": \"\"\n      }\n    },\n    {\n      \"column\": \"FTSE\",\n      \"properties\": {\n        \"dtype\": \"number\",\n        \"std\": 1542.4402971717016,\n        \"min\": 1990.2,\n        \"max\": 7877.45,\n        \"num_unique_values\": 7259,\n        \"samples\": [\n          6620.1,\n          2464.9,\n          6269.21\n        ],\n        \"semantic_type\": \"\",\n        \"description\": \"\"\n      }\n    },\n    {\n      \"column\": \"EuroStoxx50\",\n      \"properties\": {\n        \"dtype\": \"number\",\n        \"std\": 1093.5939063354595,\n        \"min\": 818.5,\n        \"max\": 5464.43,\n        \"num_unique_values\": 7504,\n        \"samples\": [\n          2713.24,\n          3702.89,\n          3485.38\n        ],\n        \"semantic_type\": \"\",\n        \"description\": \"\"\n      }\n    },\n    {\n      \"column\": \"SP500\",\n      \"properties\": {\n        \"dtype\": \"number\",\n        \"std\": 588.8160436920891,\n        \"min\": 287.11,\n        \"max\": 2872.87,\n        \"num_unique_values\": 7197,\n        \"samples\": [\n          1029.03,\n          927.69,\n          652.09\n        ],\n        \"semantic_type\": \"\",\n        \"description\": \"\"\n      }\n    },\n    {\n      \"column\": \"Gold\",\n      \"properties\": {\n        \"dtype\": \"number\",\n        \"std\": 456.20524701398335,\n        \"min\": 252.85,\n        \"max\": 1898.25,\n        \"num_unique_values\": 5225,\n        \"samples\": [\n          341.0,\n          1238.1,\n          393.25\n        ],\n        \"semantic_type\": \"\",\n        \"description\": \"\"\n      }\n    },\n    {\n      \"column\": \"French-2Y\",\n      \"properties\": {\n        \"dtype\": \"number\",\n        \"std\": 4.651300617608227,\n        \"min\": 89.925,\n        \"max\": 111.218,\n        \"num_unique_values\": 5174,\n        \"samples\": [\n          108.5,\n          107.575,\n          102.62\n        ],\n        \"semantic_type\": \"\",\n        \"description\": \"\"\n      }\n    },\n    {\n      \"column\": \"French-5Y\",\n      \"properties\": {\n        \"dtype\": \"number\",\n        \"std\": 18.055983482701684,\n        \"min\": 91.211,\n        \"max\": 157.86,\n        \"num_unique_values\": 6401,\n        \"samples\": [\n          107.125,\n          137.21,\n          144.204\n        ],\n        \"semantic_type\": \"\",\n        \"description\": \"\"\n      }\n    },\n    {\n      \"column\": \"French-10Y\",\n      \"properties\": {\n        \"dtype\": \"number\",\n        \"std\": 32.71896379431956,\n        \"min\": 88.147,\n        \"max\": 217.376,\n        \"num_unique_values\": 6723,\n        \"samples\": [\n          177.285,\n          142.007,\n          134.742\n        ],\n        \"semantic_type\": \"\",\n        \"description\": \"\"\n      }\n    },\n    {\n      \"column\": \"French-30Y\",\n      \"properties\": {\n        \"dtype\": \"number\",\n        \"std\": 59.92222084592716,\n        \"min\": 80.873,\n        \"max\": 345.245,\n        \"num_unique_values\": 6661,\n        \"samples\": [\n          222.308,\n          183.291,\n          99.964\n        ],\n        \"semantic_type\": \"\",\n        \"description\": \"\"\n      }\n    },\n    {\n      \"column\": \"US-2Y\",\n      \"properties\": {\n        \"dtype\": \"number\",\n        \"std\": 8.245838181332683,\n        \"min\": 98.684,\n        \"max\": 126.921,\n        \"num_unique_values\": 4337,\n        \"samples\": [\n          126.632,\n          106.423,\n          111.802\n        ],\n        \"semantic_type\": \"\",\n        \"description\": \"\"\n      }\n    },\n    {\n      \"column\": \"US-5Y\",\n      \"properties\": {\n        \"dtype\": \"number\",\n        \"std\": 16.734644822986617,\n        \"min\": 97.479,\n        \"max\": 156.652,\n        \"num_unique_values\": 6010,\n        \"samples\": [\n          102.626,\n          131.681,\n          121.761\n        ],\n        \"semantic_type\": \"\",\n        \"description\": \"\"\n      }\n    },\n    {\n      \"column\": \"US-10Y\",\n      \"properties\": {\n        \"dtype\": \"number\",\n        \"std\": 16.605919511464062,\n        \"min\": 97.361,\n        \"max\": 163.328,\n        \"num_unique_values\": 6326,\n        \"samples\": [\n          105.964,\n          110.411,\n          125.262\n        ],\n        \"semantic_type\": \"\",\n        \"description\": \"\"\n      }\n    },\n    {\n      \"column\": \"US-30Y\",\n      \"properties\": {\n        \"dtype\": \"number\",\n        \"std\": 21.411652782457853,\n        \"min\": 96.579,\n        \"max\": 195.414,\n        \"num_unique_values\": 6614,\n        \"samples\": [\n          136.9,\n          116.513,\n          124.374\n        ],\n        \"semantic_type\": \"\",\n        \"description\": \"\"\n      }\n    },\n    {\n      \"column\": \"Russel2000\",\n      \"properties\": {\n        \"dtype\": \"number\",\n        \"std\": 363.3770819922586,\n        \"min\": 118.82,\n        \"max\": 1706.99,\n        \"num_unique_values\": 7109,\n        \"samples\": [\n          131.65,\n          365.59,\n          1275.35\n        ],\n        \"semantic_type\": \"\",\n        \"description\": \"\"\n      }\n    },\n    {\n      \"column\": \"EuroStox_Small\",\n      \"properties\": {\n        \"dtype\": \"number\",\n        \"std\": 48.682884848383615,\n        \"min\": 76.89,\n        \"max\": 279.741,\n        \"num_unique_values\": 6781,\n        \"samples\": [\n          147.709,\n          217.413,\n          185.175\n        ],\n        \"semantic_type\": \"\",\n        \"description\": \"\"\n      }\n    },\n    {\n      \"column\": \"FTSE_Small\",\n      \"properties\": {\n        \"dtype\": \"number\",\n        \"std\": 1157.500615405768,\n        \"min\": 1093.52,\n        \"max\": 6048.96,\n        \"num_unique_values\": 7351,\n        \"samples\": [\n          3397.72,\n          1782.13,\n          3744.4\n        ],\n        \"semantic_type\": \"\",\n        \"description\": \"\"\n      }\n    },\n    {\n      \"column\": \"MSCI_EM\",\n      \"properties\": {\n        \"dtype\": \"number\",\n        \"std\": 315.9149526488423,\n        \"min\": 133.584,\n        \"max\": 1338.487,\n        \"num_unique_values\": 7626,\n        \"samples\": [\n          263.709,\n          476.334,\n          561.076\n        ],\n        \"semantic_type\": \"\",\n        \"description\": \"\"\n      }\n    },\n    {\n      \"column\": \"CRB\",\n      \"properties\": {\n        \"dtype\": \"number\",\n        \"std\": 95.80469195462001,\n        \"min\": 205.62,\n        \"max\": 580.49,\n        \"num_unique_values\": 6195,\n        \"samples\": [\n          250.76,\n          231.8,\n          313.11\n        ],\n        \"semantic_type\": \"\",\n        \"description\": \"\"\n      }\n    },\n    {\n      \"column\": \"target\",\n      \"properties\": {\n        \"dtype\": \"number\",\n        \"std\": 0,\n        \"min\": 0,\n        \"max\": 1,\n        \"num_unique_values\": 2,\n        \"samples\": [\n          1,\n          0\n        ],\n        \"semantic_type\": \"\",\n        \"description\": \"\"\n      }\n    }\n  ]\n}"
            }
          },
          "metadata": {},
          "execution_count": 2
        }
      ]
    },
    {
      "cell_type": "markdown",
      "source": [
        "`FTSE`: This is the Financial Times Stock Exchange 100 Index, which is a share index of the 100 companies listed on the London Stock Exchange with the highest market capitalization.\n",
        "\n",
        "`EuroStoxx50`: This is the Euro Stoxx 50 Index, which is a stock index of Eurozone stocks designed by the Stoxx Ltd. It represents the performance of 50 large-cap stocks across several Eurozone countries.\n",
        "\n",
        "`SP500`: This is the S&P 500 Index, which is a stock market index tracking the performance of 500 large-cap U.S. stocks.\n",
        "\n",
        "`Gold`: This likely represents the price of gold, which is a precious metal often used as a safe-haven asset.\n",
        "\n",
        "`French-2Y`, `French-5Y`, `French-10Y`, `French-30Y`: These represent French government bond yields with maturities of 2 years, 5 years, 10 years, and 30 years, respectively.\n",
        "\n",
        "`US-2Y`, `US-5Y`, `US-10Y`, `US-30Y`: These represent U.S. government bond yields with maturities of 2 years, 5 years, 10 years, and 30 years, respectively.\n",
        "\n",
        "`Russel2000`: This is the Russell 2000 Index, which is a small-cap stock market index of the bottom 2,000 stocks in the Russell 3000 Index.\n",
        "\n",
        "`EuroStox_Small`: This likely represents a small-cap stock index for Eurozone companies.\n",
        "\n",
        "`FTSE_Small`: This likely represents a small-cap stock index for companies listed on the London Stock Exchange.\n",
        "\n",
        "`MSCI_EM`: This is the MSCI Emerging Markets Index, which is a stock market index that captures large and mid-cap representation across 24 emerging markets countries.\n",
        "\n",
        "`CRB`: This likely represents the Commodity Research Bureau (CRB) Index, which is a weighted geometric mean of commodity futures prices.\n",
        "\n",
        "`target`: This is likely the target variable you are trying to predict, such as the future direction of the S&P 500 or some other asset.\n",
        "\n"
      ],
      "metadata": {
        "id": "LKSN9DmQZobp"
      }
    },
    {
      "cell_type": "code",
      "source": [
        "df.corr()"
      ],
      "metadata": {
        "colab": {
          "base_uri": "https://localhost:8080/",
          "height": 613
        },
        "id": "ir1uN9oLWTcM",
        "outputId": "b22ed7de-895f-4ba7-bad6-caef6d2a77ad"
      },
      "execution_count": 3,
      "outputs": [
        {
          "output_type": "execute_result",
          "data": {
            "text/plain": [
              "                    FTSE  EuroStoxx50     SP500      Gold  French-2Y  \\\n",
              "FTSE            1.000000     0.862250  0.929262  0.569529   0.048689   \n",
              "EuroStoxx50     0.862250     1.000000  0.720064  0.189884   0.242232   \n",
              "SP500           0.929262     0.720064  1.000000  0.642437  -0.217058   \n",
              "Gold            0.569529     0.189884  0.642437  1.000000  -0.208941   \n",
              "French-2Y       0.048689     0.242232 -0.217058 -0.208941   1.000000   \n",
              "French-5Y       0.823262     0.540548  0.873509  0.812371   0.034071   \n",
              "French-10Y      0.803871     0.488057  0.923169  0.781796  -0.208039   \n",
              "French-30Y      0.798883     0.515174  0.920081  0.747971  -0.217786   \n",
              "US-2Y           0.685521     0.376398  0.756808  0.866662   0.040552   \n",
              "US-5Y           0.671510     0.325683  0.764339  0.902641  -0.060950   \n",
              "US-10Y          0.663647     0.307261  0.767072  0.874270  -0.102961   \n",
              "US-30Y          0.674435     0.372137  0.775771  0.790466  -0.090207   \n",
              "Russel2000      0.853414     0.567170  0.963553  0.763853  -0.306378   \n",
              "EuroStox_Small  0.760668     0.564448  0.834068  0.668011  -0.430211   \n",
              "FTSE_Small      0.892512     0.670561  0.970001  0.657706  -0.311672   \n",
              "MSCI_EM         0.725363     0.442686  0.727030  0.862343  -0.123345   \n",
              "CRB             0.573822     0.223265  0.610699  0.942625  -0.165385   \n",
              "target         -0.005875    -0.023501 -0.005276  0.017045  -0.005566   \n",
              "\n",
              "                French-5Y  French-10Y  French-30Y     US-2Y     US-5Y  \\\n",
              "FTSE             0.823262    0.803871    0.798883  0.685521  0.671510   \n",
              "EuroStoxx50      0.540548    0.488057    0.515174  0.376398  0.325683   \n",
              "SP500            0.873509    0.923169    0.920081  0.756808  0.764339   \n",
              "Gold             0.812371    0.781796    0.747971  0.866662  0.902641   \n",
              "French-2Y        0.034071   -0.208039   -0.217786  0.040552 -0.060950   \n",
              "French-5Y        1.000000    0.959564    0.942960  0.953833  0.948444   \n",
              "French-10Y       0.959564    1.000000    0.991336  0.893446  0.912505   \n",
              "French-30Y       0.942960    0.991336    1.000000  0.868092  0.885204   \n",
              "US-2Y            0.953833    0.893446    0.868092  1.000000  0.985145   \n",
              "US-5Y            0.948444    0.912505    0.885204  0.985145  1.000000   \n",
              "US-10Y           0.934305    0.922899    0.899491  0.949370  0.984799   \n",
              "US-30Y           0.914417    0.919260    0.916177  0.896874  0.928203   \n",
              "Russel2000       0.901472    0.951831    0.941512  0.828193  0.840737   \n",
              "EuroStox_Small   0.704522    0.772905    0.781863  0.608720  0.623831   \n",
              "FTSE_Small       0.834289    0.898538    0.894556  0.713317  0.728414   \n",
              "MSCI_EM          0.791251    0.754900    0.732099  0.797039  0.785251   \n",
              "CRB              0.755232    0.707641    0.670590  0.804007  0.815405   \n",
              "target           0.008285    0.008079    0.004361  0.009725  0.009925   \n",
              "\n",
              "                  US-10Y    US-30Y  Russel2000  EuroStox_Small  FTSE_Small  \\\n",
              "FTSE            0.663647  0.674435    0.853414        0.760668    0.892512   \n",
              "EuroStoxx50     0.307261  0.372137    0.567170        0.564448    0.670561   \n",
              "SP500           0.767072  0.775771    0.963553        0.834068    0.970001   \n",
              "Gold            0.874270  0.790466    0.763853        0.668011    0.657706   \n",
              "French-2Y      -0.102961 -0.090207   -0.306378       -0.430211   -0.311672   \n",
              "French-5Y       0.934305  0.914417    0.901472        0.704522    0.834289   \n",
              "French-10Y      0.922899  0.919260    0.951831        0.772905    0.898538   \n",
              "French-30Y      0.899491  0.916177    0.941512        0.781863    0.894556   \n",
              "US-2Y           0.949370  0.896874    0.828193        0.608720    0.713317   \n",
              "US-5Y           0.984799  0.928203    0.840737        0.623831    0.728414   \n",
              "US-10Y          1.000000  0.964077    0.829364        0.606675    0.723997   \n",
              "US-30Y          0.964077  1.000000    0.815719        0.617916    0.724993   \n",
              "Russel2000      0.829364  0.815719    1.000000        0.885130    0.969928   \n",
              "EuroStox_Small  0.606675  0.617916    0.885130        1.000000    0.906115   \n",
              "FTSE_Small      0.723997  0.724993    0.969928        0.906115    1.000000   \n",
              "MSCI_EM         0.732660  0.693674    0.820812        0.821694    0.769380   \n",
              "CRB             0.764932  0.674686    0.744090        0.719079    0.648921   \n",
              "target          0.009324  0.007695    0.003832        0.006856    0.003546   \n",
              "\n",
              "                 MSCI_EM       CRB    target  \n",
              "FTSE            0.725363  0.573822 -0.005875  \n",
              "EuroStoxx50     0.442686  0.223265 -0.023501  \n",
              "SP500           0.727030  0.610699 -0.005276  \n",
              "Gold            0.862343  0.942625  0.017045  \n",
              "French-2Y      -0.123345 -0.165385 -0.005566  \n",
              "French-5Y       0.791251  0.755232  0.008285  \n",
              "French-10Y      0.754900  0.707641  0.008079  \n",
              "French-30Y      0.732099  0.670590  0.004361  \n",
              "US-2Y           0.797039  0.804007  0.009725  \n",
              "US-5Y           0.785251  0.815405  0.009925  \n",
              "US-10Y          0.732660  0.764932  0.009324  \n",
              "US-30Y          0.693674  0.674686  0.007695  \n",
              "Russel2000      0.820812  0.744090  0.003832  \n",
              "EuroStox_Small  0.821694  0.719079  0.006856  \n",
              "FTSE_Small      0.769380  0.648921  0.003546  \n",
              "MSCI_EM         1.000000  0.919342  0.016237  \n",
              "CRB             0.919342  1.000000  0.026033  \n",
              "target          0.016237  0.026033  1.000000  "
            ],
            "text/html": [
              "\n",
              "  <div id=\"df-ceff27b4-ae19-430c-a678-569061b62b71\" class=\"colab-df-container\">\n",
              "    <div>\n",
              "<style scoped>\n",
              "    .dataframe tbody tr th:only-of-type {\n",
              "        vertical-align: middle;\n",
              "    }\n",
              "\n",
              "    .dataframe tbody tr th {\n",
              "        vertical-align: top;\n",
              "    }\n",
              "\n",
              "    .dataframe thead th {\n",
              "        text-align: right;\n",
              "    }\n",
              "</style>\n",
              "<table border=\"1\" class=\"dataframe\">\n",
              "  <thead>\n",
              "    <tr style=\"text-align: right;\">\n",
              "      <th></th>\n",
              "      <th>FTSE</th>\n",
              "      <th>EuroStoxx50</th>\n",
              "      <th>SP500</th>\n",
              "      <th>Gold</th>\n",
              "      <th>French-2Y</th>\n",
              "      <th>French-5Y</th>\n",
              "      <th>French-10Y</th>\n",
              "      <th>French-30Y</th>\n",
              "      <th>US-2Y</th>\n",
              "      <th>US-5Y</th>\n",
              "      <th>US-10Y</th>\n",
              "      <th>US-30Y</th>\n",
              "      <th>Russel2000</th>\n",
              "      <th>EuroStox_Small</th>\n",
              "      <th>FTSE_Small</th>\n",
              "      <th>MSCI_EM</th>\n",
              "      <th>CRB</th>\n",
              "      <th>target</th>\n",
              "    </tr>\n",
              "  </thead>\n",
              "  <tbody>\n",
              "    <tr>\n",
              "      <th>FTSE</th>\n",
              "      <td>1.000000</td>\n",
              "      <td>0.862250</td>\n",
              "      <td>0.929262</td>\n",
              "      <td>0.569529</td>\n",
              "      <td>0.048689</td>\n",
              "      <td>0.823262</td>\n",
              "      <td>0.803871</td>\n",
              "      <td>0.798883</td>\n",
              "      <td>0.685521</td>\n",
              "      <td>0.671510</td>\n",
              "      <td>0.663647</td>\n",
              "      <td>0.674435</td>\n",
              "      <td>0.853414</td>\n",
              "      <td>0.760668</td>\n",
              "      <td>0.892512</td>\n",
              "      <td>0.725363</td>\n",
              "      <td>0.573822</td>\n",
              "      <td>-0.005875</td>\n",
              "    </tr>\n",
              "    <tr>\n",
              "      <th>EuroStoxx50</th>\n",
              "      <td>0.862250</td>\n",
              "      <td>1.000000</td>\n",
              "      <td>0.720064</td>\n",
              "      <td>0.189884</td>\n",
              "      <td>0.242232</td>\n",
              "      <td>0.540548</td>\n",
              "      <td>0.488057</td>\n",
              "      <td>0.515174</td>\n",
              "      <td>0.376398</td>\n",
              "      <td>0.325683</td>\n",
              "      <td>0.307261</td>\n",
              "      <td>0.372137</td>\n",
              "      <td>0.567170</td>\n",
              "      <td>0.564448</td>\n",
              "      <td>0.670561</td>\n",
              "      <td>0.442686</td>\n",
              "      <td>0.223265</td>\n",
              "      <td>-0.023501</td>\n",
              "    </tr>\n",
              "    <tr>\n",
              "      <th>SP500</th>\n",
              "      <td>0.929262</td>\n",
              "      <td>0.720064</td>\n",
              "      <td>1.000000</td>\n",
              "      <td>0.642437</td>\n",
              "      <td>-0.217058</td>\n",
              "      <td>0.873509</td>\n",
              "      <td>0.923169</td>\n",
              "      <td>0.920081</td>\n",
              "      <td>0.756808</td>\n",
              "      <td>0.764339</td>\n",
              "      <td>0.767072</td>\n",
              "      <td>0.775771</td>\n",
              "      <td>0.963553</td>\n",
              "      <td>0.834068</td>\n",
              "      <td>0.970001</td>\n",
              "      <td>0.727030</td>\n",
              "      <td>0.610699</td>\n",
              "      <td>-0.005276</td>\n",
              "    </tr>\n",
              "    <tr>\n",
              "      <th>Gold</th>\n",
              "      <td>0.569529</td>\n",
              "      <td>0.189884</td>\n",
              "      <td>0.642437</td>\n",
              "      <td>1.000000</td>\n",
              "      <td>-0.208941</td>\n",
              "      <td>0.812371</td>\n",
              "      <td>0.781796</td>\n",
              "      <td>0.747971</td>\n",
              "      <td>0.866662</td>\n",
              "      <td>0.902641</td>\n",
              "      <td>0.874270</td>\n",
              "      <td>0.790466</td>\n",
              "      <td>0.763853</td>\n",
              "      <td>0.668011</td>\n",
              "      <td>0.657706</td>\n",
              "      <td>0.862343</td>\n",
              "      <td>0.942625</td>\n",
              "      <td>0.017045</td>\n",
              "    </tr>\n",
              "    <tr>\n",
              "      <th>French-2Y</th>\n",
              "      <td>0.048689</td>\n",
              "      <td>0.242232</td>\n",
              "      <td>-0.217058</td>\n",
              "      <td>-0.208941</td>\n",
              "      <td>1.000000</td>\n",
              "      <td>0.034071</td>\n",
              "      <td>-0.208039</td>\n",
              "      <td>-0.217786</td>\n",
              "      <td>0.040552</td>\n",
              "      <td>-0.060950</td>\n",
              "      <td>-0.102961</td>\n",
              "      <td>-0.090207</td>\n",
              "      <td>-0.306378</td>\n",
              "      <td>-0.430211</td>\n",
              "      <td>-0.311672</td>\n",
              "      <td>-0.123345</td>\n",
              "      <td>-0.165385</td>\n",
              "      <td>-0.005566</td>\n",
              "    </tr>\n",
              "    <tr>\n",
              "      <th>French-5Y</th>\n",
              "      <td>0.823262</td>\n",
              "      <td>0.540548</td>\n",
              "      <td>0.873509</td>\n",
              "      <td>0.812371</td>\n",
              "      <td>0.034071</td>\n",
              "      <td>1.000000</td>\n",
              "      <td>0.959564</td>\n",
              "      <td>0.942960</td>\n",
              "      <td>0.953833</td>\n",
              "      <td>0.948444</td>\n",
              "      <td>0.934305</td>\n",
              "      <td>0.914417</td>\n",
              "      <td>0.901472</td>\n",
              "      <td>0.704522</td>\n",
              "      <td>0.834289</td>\n",
              "      <td>0.791251</td>\n",
              "      <td>0.755232</td>\n",
              "      <td>0.008285</td>\n",
              "    </tr>\n",
              "    <tr>\n",
              "      <th>French-10Y</th>\n",
              "      <td>0.803871</td>\n",
              "      <td>0.488057</td>\n",
              "      <td>0.923169</td>\n",
              "      <td>0.781796</td>\n",
              "      <td>-0.208039</td>\n",
              "      <td>0.959564</td>\n",
              "      <td>1.000000</td>\n",
              "      <td>0.991336</td>\n",
              "      <td>0.893446</td>\n",
              "      <td>0.912505</td>\n",
              "      <td>0.922899</td>\n",
              "      <td>0.919260</td>\n",
              "      <td>0.951831</td>\n",
              "      <td>0.772905</td>\n",
              "      <td>0.898538</td>\n",
              "      <td>0.754900</td>\n",
              "      <td>0.707641</td>\n",
              "      <td>0.008079</td>\n",
              "    </tr>\n",
              "    <tr>\n",
              "      <th>French-30Y</th>\n",
              "      <td>0.798883</td>\n",
              "      <td>0.515174</td>\n",
              "      <td>0.920081</td>\n",
              "      <td>0.747971</td>\n",
              "      <td>-0.217786</td>\n",
              "      <td>0.942960</td>\n",
              "      <td>0.991336</td>\n",
              "      <td>1.000000</td>\n",
              "      <td>0.868092</td>\n",
              "      <td>0.885204</td>\n",
              "      <td>0.899491</td>\n",
              "      <td>0.916177</td>\n",
              "      <td>0.941512</td>\n",
              "      <td>0.781863</td>\n",
              "      <td>0.894556</td>\n",
              "      <td>0.732099</td>\n",
              "      <td>0.670590</td>\n",
              "      <td>0.004361</td>\n",
              "    </tr>\n",
              "    <tr>\n",
              "      <th>US-2Y</th>\n",
              "      <td>0.685521</td>\n",
              "      <td>0.376398</td>\n",
              "      <td>0.756808</td>\n",
              "      <td>0.866662</td>\n",
              "      <td>0.040552</td>\n",
              "      <td>0.953833</td>\n",
              "      <td>0.893446</td>\n",
              "      <td>0.868092</td>\n",
              "      <td>1.000000</td>\n",
              "      <td>0.985145</td>\n",
              "      <td>0.949370</td>\n",
              "      <td>0.896874</td>\n",
              "      <td>0.828193</td>\n",
              "      <td>0.608720</td>\n",
              "      <td>0.713317</td>\n",
              "      <td>0.797039</td>\n",
              "      <td>0.804007</td>\n",
              "      <td>0.009725</td>\n",
              "    </tr>\n",
              "    <tr>\n",
              "      <th>US-5Y</th>\n",
              "      <td>0.671510</td>\n",
              "      <td>0.325683</td>\n",
              "      <td>0.764339</td>\n",
              "      <td>0.902641</td>\n",
              "      <td>-0.060950</td>\n",
              "      <td>0.948444</td>\n",
              "      <td>0.912505</td>\n",
              "      <td>0.885204</td>\n",
              "      <td>0.985145</td>\n",
              "      <td>1.000000</td>\n",
              "      <td>0.984799</td>\n",
              "      <td>0.928203</td>\n",
              "      <td>0.840737</td>\n",
              "      <td>0.623831</td>\n",
              "      <td>0.728414</td>\n",
              "      <td>0.785251</td>\n",
              "      <td>0.815405</td>\n",
              "      <td>0.009925</td>\n",
              "    </tr>\n",
              "    <tr>\n",
              "      <th>US-10Y</th>\n",
              "      <td>0.663647</td>\n",
              "      <td>0.307261</td>\n",
              "      <td>0.767072</td>\n",
              "      <td>0.874270</td>\n",
              "      <td>-0.102961</td>\n",
              "      <td>0.934305</td>\n",
              "      <td>0.922899</td>\n",
              "      <td>0.899491</td>\n",
              "      <td>0.949370</td>\n",
              "      <td>0.984799</td>\n",
              "      <td>1.000000</td>\n",
              "      <td>0.964077</td>\n",
              "      <td>0.829364</td>\n",
              "      <td>0.606675</td>\n",
              "      <td>0.723997</td>\n",
              "      <td>0.732660</td>\n",
              "      <td>0.764932</td>\n",
              "      <td>0.009324</td>\n",
              "    </tr>\n",
              "    <tr>\n",
              "      <th>US-30Y</th>\n",
              "      <td>0.674435</td>\n",
              "      <td>0.372137</td>\n",
              "      <td>0.775771</td>\n",
              "      <td>0.790466</td>\n",
              "      <td>-0.090207</td>\n",
              "      <td>0.914417</td>\n",
              "      <td>0.919260</td>\n",
              "      <td>0.916177</td>\n",
              "      <td>0.896874</td>\n",
              "      <td>0.928203</td>\n",
              "      <td>0.964077</td>\n",
              "      <td>1.000000</td>\n",
              "      <td>0.815719</td>\n",
              "      <td>0.617916</td>\n",
              "      <td>0.724993</td>\n",
              "      <td>0.693674</td>\n",
              "      <td>0.674686</td>\n",
              "      <td>0.007695</td>\n",
              "    </tr>\n",
              "    <tr>\n",
              "      <th>Russel2000</th>\n",
              "      <td>0.853414</td>\n",
              "      <td>0.567170</td>\n",
              "      <td>0.963553</td>\n",
              "      <td>0.763853</td>\n",
              "      <td>-0.306378</td>\n",
              "      <td>0.901472</td>\n",
              "      <td>0.951831</td>\n",
              "      <td>0.941512</td>\n",
              "      <td>0.828193</td>\n",
              "      <td>0.840737</td>\n",
              "      <td>0.829364</td>\n",
              "      <td>0.815719</td>\n",
              "      <td>1.000000</td>\n",
              "      <td>0.885130</td>\n",
              "      <td>0.969928</td>\n",
              "      <td>0.820812</td>\n",
              "      <td>0.744090</td>\n",
              "      <td>0.003832</td>\n",
              "    </tr>\n",
              "    <tr>\n",
              "      <th>EuroStox_Small</th>\n",
              "      <td>0.760668</td>\n",
              "      <td>0.564448</td>\n",
              "      <td>0.834068</td>\n",
              "      <td>0.668011</td>\n",
              "      <td>-0.430211</td>\n",
              "      <td>0.704522</td>\n",
              "      <td>0.772905</td>\n",
              "      <td>0.781863</td>\n",
              "      <td>0.608720</td>\n",
              "      <td>0.623831</td>\n",
              "      <td>0.606675</td>\n",
              "      <td>0.617916</td>\n",
              "      <td>0.885130</td>\n",
              "      <td>1.000000</td>\n",
              "      <td>0.906115</td>\n",
              "      <td>0.821694</td>\n",
              "      <td>0.719079</td>\n",
              "      <td>0.006856</td>\n",
              "    </tr>\n",
              "    <tr>\n",
              "      <th>FTSE_Small</th>\n",
              "      <td>0.892512</td>\n",
              "      <td>0.670561</td>\n",
              "      <td>0.970001</td>\n",
              "      <td>0.657706</td>\n",
              "      <td>-0.311672</td>\n",
              "      <td>0.834289</td>\n",
              "      <td>0.898538</td>\n",
              "      <td>0.894556</td>\n",
              "      <td>0.713317</td>\n",
              "      <td>0.728414</td>\n",
              "      <td>0.723997</td>\n",
              "      <td>0.724993</td>\n",
              "      <td>0.969928</td>\n",
              "      <td>0.906115</td>\n",
              "      <td>1.000000</td>\n",
              "      <td>0.769380</td>\n",
              "      <td>0.648921</td>\n",
              "      <td>0.003546</td>\n",
              "    </tr>\n",
              "    <tr>\n",
              "      <th>MSCI_EM</th>\n",
              "      <td>0.725363</td>\n",
              "      <td>0.442686</td>\n",
              "      <td>0.727030</td>\n",
              "      <td>0.862343</td>\n",
              "      <td>-0.123345</td>\n",
              "      <td>0.791251</td>\n",
              "      <td>0.754900</td>\n",
              "      <td>0.732099</td>\n",
              "      <td>0.797039</td>\n",
              "      <td>0.785251</td>\n",
              "      <td>0.732660</td>\n",
              "      <td>0.693674</td>\n",
              "      <td>0.820812</td>\n",
              "      <td>0.821694</td>\n",
              "      <td>0.769380</td>\n",
              "      <td>1.000000</td>\n",
              "      <td>0.919342</td>\n",
              "      <td>0.016237</td>\n",
              "    </tr>\n",
              "    <tr>\n",
              "      <th>CRB</th>\n",
              "      <td>0.573822</td>\n",
              "      <td>0.223265</td>\n",
              "      <td>0.610699</td>\n",
              "      <td>0.942625</td>\n",
              "      <td>-0.165385</td>\n",
              "      <td>0.755232</td>\n",
              "      <td>0.707641</td>\n",
              "      <td>0.670590</td>\n",
              "      <td>0.804007</td>\n",
              "      <td>0.815405</td>\n",
              "      <td>0.764932</td>\n",
              "      <td>0.674686</td>\n",
              "      <td>0.744090</td>\n",
              "      <td>0.719079</td>\n",
              "      <td>0.648921</td>\n",
              "      <td>0.919342</td>\n",
              "      <td>1.000000</td>\n",
              "      <td>0.026033</td>\n",
              "    </tr>\n",
              "    <tr>\n",
              "      <th>target</th>\n",
              "      <td>-0.005875</td>\n",
              "      <td>-0.023501</td>\n",
              "      <td>-0.005276</td>\n",
              "      <td>0.017045</td>\n",
              "      <td>-0.005566</td>\n",
              "      <td>0.008285</td>\n",
              "      <td>0.008079</td>\n",
              "      <td>0.004361</td>\n",
              "      <td>0.009725</td>\n",
              "      <td>0.009925</td>\n",
              "      <td>0.009324</td>\n",
              "      <td>0.007695</td>\n",
              "      <td>0.003832</td>\n",
              "      <td>0.006856</td>\n",
              "      <td>0.003546</td>\n",
              "      <td>0.016237</td>\n",
              "      <td>0.026033</td>\n",
              "      <td>1.000000</td>\n",
              "    </tr>\n",
              "  </tbody>\n",
              "</table>\n",
              "</div>\n",
              "    <div class=\"colab-df-buttons\">\n",
              "\n",
              "  <div class=\"colab-df-container\">\n",
              "    <button class=\"colab-df-convert\" onclick=\"convertToInteractive('df-ceff27b4-ae19-430c-a678-569061b62b71')\"\n",
              "            title=\"Convert this dataframe to an interactive table.\"\n",
              "            style=\"display:none;\">\n",
              "\n",
              "  <svg xmlns=\"http://www.w3.org/2000/svg\" height=\"24px\" viewBox=\"0 -960 960 960\">\n",
              "    <path d=\"M120-120v-720h720v720H120Zm60-500h600v-160H180v160Zm220 220h160v-160H400v160Zm0 220h160v-160H400v160ZM180-400h160v-160H180v160Zm440 0h160v-160H620v160ZM180-180h160v-160H180v160Zm440 0h160v-160H620v160Z\"/>\n",
              "  </svg>\n",
              "    </button>\n",
              "\n",
              "  <style>\n",
              "    .colab-df-container {\n",
              "      display:flex;\n",
              "      gap: 12px;\n",
              "    }\n",
              "\n",
              "    .colab-df-convert {\n",
              "      background-color: #E8F0FE;\n",
              "      border: none;\n",
              "      border-radius: 50%;\n",
              "      cursor: pointer;\n",
              "      display: none;\n",
              "      fill: #1967D2;\n",
              "      height: 32px;\n",
              "      padding: 0 0 0 0;\n",
              "      width: 32px;\n",
              "    }\n",
              "\n",
              "    .colab-df-convert:hover {\n",
              "      background-color: #E2EBFA;\n",
              "      box-shadow: 0px 1px 2px rgba(60, 64, 67, 0.3), 0px 1px 3px 1px rgba(60, 64, 67, 0.15);\n",
              "      fill: #174EA6;\n",
              "    }\n",
              "\n",
              "    .colab-df-buttons div {\n",
              "      margin-bottom: 4px;\n",
              "    }\n",
              "\n",
              "    [theme=dark] .colab-df-convert {\n",
              "      background-color: #3B4455;\n",
              "      fill: #D2E3FC;\n",
              "    }\n",
              "\n",
              "    [theme=dark] .colab-df-convert:hover {\n",
              "      background-color: #434B5C;\n",
              "      box-shadow: 0px 1px 3px 1px rgba(0, 0, 0, 0.15);\n",
              "      filter: drop-shadow(0px 1px 2px rgba(0, 0, 0, 0.3));\n",
              "      fill: #FFFFFF;\n",
              "    }\n",
              "  </style>\n",
              "\n",
              "    <script>\n",
              "      const buttonEl =\n",
              "        document.querySelector('#df-ceff27b4-ae19-430c-a678-569061b62b71 button.colab-df-convert');\n",
              "      buttonEl.style.display =\n",
              "        google.colab.kernel.accessAllowed ? 'block' : 'none';\n",
              "\n",
              "      async function convertToInteractive(key) {\n",
              "        const element = document.querySelector('#df-ceff27b4-ae19-430c-a678-569061b62b71');\n",
              "        const dataTable =\n",
              "          await google.colab.kernel.invokeFunction('convertToInteractive',\n",
              "                                                    [key], {});\n",
              "        if (!dataTable) return;\n",
              "\n",
              "        const docLinkHtml = 'Like what you see? Visit the ' +\n",
              "          '<a target=\"_blank\" href=https://colab.research.google.com/notebooks/data_table.ipynb>data table notebook</a>'\n",
              "          + ' to learn more about interactive tables.';\n",
              "        element.innerHTML = '';\n",
              "        dataTable['output_type'] = 'display_data';\n",
              "        await google.colab.output.renderOutput(dataTable, element);\n",
              "        const docLink = document.createElement('div');\n",
              "        docLink.innerHTML = docLinkHtml;\n",
              "        element.appendChild(docLink);\n",
              "      }\n",
              "    </script>\n",
              "  </div>\n",
              "\n",
              "\n",
              "<div id=\"df-53517b53-dfd9-4ac9-b5e6-8ad5b51fa3a8\">\n",
              "  <button class=\"colab-df-quickchart\" onclick=\"quickchart('df-53517b53-dfd9-4ac9-b5e6-8ad5b51fa3a8')\"\n",
              "            title=\"Suggest charts\"\n",
              "            style=\"display:none;\">\n",
              "\n",
              "<svg xmlns=\"http://www.w3.org/2000/svg\" height=\"24px\"viewBox=\"0 0 24 24\"\n",
              "     width=\"24px\">\n",
              "    <g>\n",
              "        <path d=\"M19 3H5c-1.1 0-2 .9-2 2v14c0 1.1.9 2 2 2h14c1.1 0 2-.9 2-2V5c0-1.1-.9-2-2-2zM9 17H7v-7h2v7zm4 0h-2V7h2v10zm4 0h-2v-4h2v4z\"/>\n",
              "    </g>\n",
              "</svg>\n",
              "  </button>\n",
              "\n",
              "<style>\n",
              "  .colab-df-quickchart {\n",
              "      --bg-color: #E8F0FE;\n",
              "      --fill-color: #1967D2;\n",
              "      --hover-bg-color: #E2EBFA;\n",
              "      --hover-fill-color: #174EA6;\n",
              "      --disabled-fill-color: #AAA;\n",
              "      --disabled-bg-color: #DDD;\n",
              "  }\n",
              "\n",
              "  [theme=dark] .colab-df-quickchart {\n",
              "      --bg-color: #3B4455;\n",
              "      --fill-color: #D2E3FC;\n",
              "      --hover-bg-color: #434B5C;\n",
              "      --hover-fill-color: #FFFFFF;\n",
              "      --disabled-bg-color: #3B4455;\n",
              "      --disabled-fill-color: #666;\n",
              "  }\n",
              "\n",
              "  .colab-df-quickchart {\n",
              "    background-color: var(--bg-color);\n",
              "    border: none;\n",
              "    border-radius: 50%;\n",
              "    cursor: pointer;\n",
              "    display: none;\n",
              "    fill: var(--fill-color);\n",
              "    height: 32px;\n",
              "    padding: 0;\n",
              "    width: 32px;\n",
              "  }\n",
              "\n",
              "  .colab-df-quickchart:hover {\n",
              "    background-color: var(--hover-bg-color);\n",
              "    box-shadow: 0 1px 2px rgba(60, 64, 67, 0.3), 0 1px 3px 1px rgba(60, 64, 67, 0.15);\n",
              "    fill: var(--button-hover-fill-color);\n",
              "  }\n",
              "\n",
              "  .colab-df-quickchart-complete:disabled,\n",
              "  .colab-df-quickchart-complete:disabled:hover {\n",
              "    background-color: var(--disabled-bg-color);\n",
              "    fill: var(--disabled-fill-color);\n",
              "    box-shadow: none;\n",
              "  }\n",
              "\n",
              "  .colab-df-spinner {\n",
              "    border: 2px solid var(--fill-color);\n",
              "    border-color: transparent;\n",
              "    border-bottom-color: var(--fill-color);\n",
              "    animation:\n",
              "      spin 1s steps(1) infinite;\n",
              "  }\n",
              "\n",
              "  @keyframes spin {\n",
              "    0% {\n",
              "      border-color: transparent;\n",
              "      border-bottom-color: var(--fill-color);\n",
              "      border-left-color: var(--fill-color);\n",
              "    }\n",
              "    20% {\n",
              "      border-color: transparent;\n",
              "      border-left-color: var(--fill-color);\n",
              "      border-top-color: var(--fill-color);\n",
              "    }\n",
              "    30% {\n",
              "      border-color: transparent;\n",
              "      border-left-color: var(--fill-color);\n",
              "      border-top-color: var(--fill-color);\n",
              "      border-right-color: var(--fill-color);\n",
              "    }\n",
              "    40% {\n",
              "      border-color: transparent;\n",
              "      border-right-color: var(--fill-color);\n",
              "      border-top-color: var(--fill-color);\n",
              "    }\n",
              "    60% {\n",
              "      border-color: transparent;\n",
              "      border-right-color: var(--fill-color);\n",
              "    }\n",
              "    80% {\n",
              "      border-color: transparent;\n",
              "      border-right-color: var(--fill-color);\n",
              "      border-bottom-color: var(--fill-color);\n",
              "    }\n",
              "    90% {\n",
              "      border-color: transparent;\n",
              "      border-bottom-color: var(--fill-color);\n",
              "    }\n",
              "  }\n",
              "</style>\n",
              "\n",
              "  <script>\n",
              "    async function quickchart(key) {\n",
              "      const quickchartButtonEl =\n",
              "        document.querySelector('#' + key + ' button');\n",
              "      quickchartButtonEl.disabled = true;  // To prevent multiple clicks.\n",
              "      quickchartButtonEl.classList.add('colab-df-spinner');\n",
              "      try {\n",
              "        const charts = await google.colab.kernel.invokeFunction(\n",
              "            'suggestCharts', [key], {});\n",
              "      } catch (error) {\n",
              "        console.error('Error during call to suggestCharts:', error);\n",
              "      }\n",
              "      quickchartButtonEl.classList.remove('colab-df-spinner');\n",
              "      quickchartButtonEl.classList.add('colab-df-quickchart-complete');\n",
              "    }\n",
              "    (() => {\n",
              "      let quickchartButtonEl =\n",
              "        document.querySelector('#df-53517b53-dfd9-4ac9-b5e6-8ad5b51fa3a8 button');\n",
              "      quickchartButtonEl.style.display =\n",
              "        google.colab.kernel.accessAllowed ? 'block' : 'none';\n",
              "    })();\n",
              "  </script>\n",
              "</div>\n",
              "    </div>\n",
              "  </div>\n"
            ],
            "application/vnd.google.colaboratory.intrinsic+json": {
              "type": "dataframe",
              "summary": "{\n  \"name\": \"df\",\n  \"rows\": 18,\n  \"fields\": [\n    {\n      \"column\": \"FTSE\",\n      \"properties\": {\n        \"dtype\": \"number\",\n        \"std\": 0.2683221136517658,\n        \"min\": -0.005874574798208442,\n        \"max\": 1.0,\n        \"num_unique_values\": 18,\n        \"samples\": [\n          1.0,\n          0.86225031586164,\n          0.6855207233681584\n        ],\n        \"semantic_type\": \"\",\n        \"description\": \"\"\n      }\n    },\n    {\n      \"column\": \"EuroStoxx50\",\n      \"properties\": {\n        \"dtype\": \"number\",\n        \"std\": 0.25018414396136457,\n        \"min\": -0.023501113074094786,\n        \"max\": 1.0,\n        \"num_unique_values\": 18,\n        \"samples\": [\n          0.86225031586164,\n          1.0,\n          0.37639771940481714\n        ],\n        \"semantic_type\": \"\",\n        \"description\": \"\"\n      }\n    },\n    {\n      \"column\": \"SP500\",\n      \"properties\": {\n        \"dtype\": \"number\",\n        \"std\": 0.32473122818200895,\n        \"min\": -0.21705783872320517,\n        \"max\": 1.0,\n        \"num_unique_values\": 18,\n        \"samples\": [\n          0.9292618230047803,\n          0.7200640414254241,\n          0.7568076086935447\n        ],\n        \"semantic_type\": \"\",\n        \"description\": \"\"\n      }\n    },\n    {\n      \"column\": \"Gold\",\n      \"properties\": {\n        \"dtype\": \"number\",\n        \"std\": 0.33037704218831976,\n        \"min\": -0.2089412685482445,\n        \"max\": 1.0,\n        \"num_unique_values\": 18,\n        \"samples\": [\n          0.569529254346164,\n          0.18988443801570268,\n          0.8666623282371014\n        ],\n        \"semantic_type\": \"\",\n        \"description\": \"\"\n      }\n    },\n    {\n      \"column\": \"French-2Y\",\n      \"properties\": {\n        \"dtype\": \"number\",\n        \"std\": 0.3088229715918626,\n        \"min\": -0.4302111705094441,\n        \"max\": 1.0,\n        \"num_unique_values\": 18,\n        \"samples\": [\n          0.04868925579073822,\n          0.24223177010970293,\n          0.04055180194618326\n        ],\n        \"semantic_type\": \"\",\n        \"description\": \"\"\n      }\n    },\n    {\n      \"column\": \"French-5Y\",\n      \"properties\": {\n        \"dtype\": \"number\",\n        \"std\": 0.29180008143011593,\n        \"min\": 0.008284817171514948,\n        \"max\": 1.0,\n        \"num_unique_values\": 18,\n        \"samples\": [\n          0.8232623034210882,\n          0.5405480879886021,\n          0.9538325402743393\n        ],\n        \"semantic_type\": \"\",\n        \"description\": \"\"\n      }\n    },\n    {\n      \"column\": \"French-10Y\",\n      \"properties\": {\n        \"dtype\": \"number\",\n        \"std\": 0.33484951157972215,\n        \"min\": -0.20803911403492467,\n        \"max\": 1.0,\n        \"num_unique_values\": 18,\n        \"samples\": [\n          0.8038711793139139,\n          0.4880573550918262,\n          0.8934457815201036\n        ],\n        \"semantic_type\": \"\",\n        \"description\": \"\"\n      }\n    },\n    {\n      \"column\": \"French-30Y\",\n      \"properties\": {\n        \"dtype\": \"number\",\n        \"std\": 0.3327286200382009,\n        \"min\": -0.2177862368876939,\n        \"max\": 1.0,\n        \"num_unique_values\": 18,\n        \"samples\": [\n          0.7988829172076275,\n          0.5151740834854766,\n          0.8680921148502612\n        ],\n        \"semantic_type\": \"\",\n        \"description\": \"\"\n      }\n    },\n    {\n      \"column\": \"US-2Y\",\n      \"properties\": {\n        \"dtype\": \"number\",\n        \"std\": 0.29549251073870647,\n        \"min\": 0.009725296642233174,\n        \"max\": 1.0,\n        \"num_unique_values\": 18,\n        \"samples\": [\n          0.6855207233681584,\n          0.37639771940481714,\n          1.0\n        ],\n        \"semantic_type\": \"\",\n        \"description\": \"\"\n      }\n    },\n    {\n      \"column\": \"US-5Y\",\n      \"properties\": {\n        \"dtype\": \"number\",\n        \"std\": 0.31833683732923,\n        \"min\": -0.06095011576359511,\n        \"max\": 1.0,\n        \"num_unique_values\": 18,\n        \"samples\": [\n          0.6715101717947771,\n          0.3256828169094535,\n          0.98514547586635\n        ],\n        \"semantic_type\": \"\",\n        \"description\": \"\"\n      }\n    },\n    {\n      \"column\": \"US-10Y\",\n      \"properties\": {\n        \"dtype\": \"number\",\n        \"std\": 0.32430554308853854,\n        \"min\": -0.10296068266355765,\n        \"max\": 1.0,\n        \"num_unique_values\": 18,\n        \"samples\": [\n          0.6636470891120763,\n          0.3072612805444141,\n          0.9493695577104937\n        ],\n        \"semantic_type\": \"\",\n        \"description\": \"\"\n      }\n    },\n    {\n      \"column\": \"US-30Y\",\n      \"properties\": {\n        \"dtype\": \"number\",\n        \"std\": 0.3104620441959358,\n        \"min\": -0.09020678574529846,\n        \"max\": 1.0,\n        \"num_unique_values\": 18,\n        \"samples\": [\n          0.6744348838720241,\n          0.37213728561327536,\n          0.8968737046573031\n        ],\n        \"semantic_type\": \"\",\n        \"description\": \"\"\n      }\n    },\n    {\n      \"column\": \"Russel2000\",\n      \"properties\": {\n        \"dtype\": \"number\",\n        \"std\": 0.34481363811113525,\n        \"min\": -0.3063779003848372,\n        \"max\": 1.0,\n        \"num_unique_values\": 18,\n        \"samples\": [\n          0.8534144154962638,\n          0.5671704813653576,\n          0.8281925597316302\n        ],\n        \"semantic_type\": \"\",\n        \"description\": \"\"\n      }\n    },\n    {\n      \"column\": \"EuroStox_Small\",\n      \"properties\": {\n        \"dtype\": \"number\",\n        \"std\": 0.3386171061318636,\n        \"min\": -0.4302111705094441,\n        \"max\": 1.0,\n        \"num_unique_values\": 18,\n        \"samples\": [\n          0.7606679623433552,\n          0.5644479040653829,\n          0.6087203310196476\n        ],\n        \"semantic_type\": \"\",\n        \"description\": \"\"\n      }\n    },\n    {\n      \"column\": \"FTSE_Small\",\n      \"properties\": {\n        \"dtype\": \"number\",\n        \"std\": 0.3370196804761171,\n        \"min\": -0.3116722568778003,\n        \"max\": 1.0,\n        \"num_unique_values\": 18,\n        \"samples\": [\n          0.8925115378044921,\n          0.6705614233351884,\n          0.7133169594229355\n        ],\n        \"semantic_type\": \"\",\n        \"description\": \"\"\n      }\n    },\n    {\n      \"column\": \"MSCI_EM\",\n      \"properties\": {\n        \"dtype\": \"number\",\n        \"std\": 0.2906131120670565,\n        \"min\": -0.12334499605442079,\n        \"max\": 1.0,\n        \"num_unique_values\": 18,\n        \"samples\": [\n          0.7253630330357536,\n          0.4426855562704782,\n          0.7970388828028412\n        ],\n        \"semantic_type\": \"\",\n        \"description\": \"\"\n      }\n    },\n    {\n      \"column\": \"CRB\",\n      \"properties\": {\n        \"dtype\": \"number\",\n        \"std\": 0.30810158583695185,\n        \"min\": -0.16538513325087473,\n        \"max\": 1.0,\n        \"num_unique_values\": 18,\n        \"samples\": [\n          0.5738216547229392,\n          0.22326508650458302,\n          0.80400673181258\n        ],\n        \"semantic_type\": \"\",\n        \"description\": \"\"\n      }\n    },\n    {\n      \"column\": \"target\",\n      \"properties\": {\n        \"dtype\": \"number\",\n        \"std\": 0.23469008721068899,\n        \"min\": -0.023501113074094786,\n        \"max\": 1.0,\n        \"num_unique_values\": 18,\n        \"samples\": [\n          -0.005874574798208442,\n          -0.023501113074094786,\n          0.009725296642233174\n        ],\n        \"semantic_type\": \"\",\n        \"description\": \"\"\n      }\n    }\n  ]\n}"
            }
          },
          "metadata": {},
          "execution_count": 3
        }
      ]
    },
    {
      "cell_type": "markdown",
      "source": [
        "### Train Test Split"
      ],
      "metadata": {
        "id": "8KjWNbXqfZju"
      }
    },
    {
      "cell_type": "code",
      "source": [
        "from sklearn.model_selection import train_test_split\n",
        "y = df.pop(\"target\")\n",
        "X = df.copy()\n",
        "\n",
        "X_train = X[X.index.astype(str)<'2018-01-01']\n",
        "y_train = y[X_train.index]\n",
        "X_test = X[~X.index.isin(X_train.index)]\n",
        "y_test = y[X_test.index]\n",
        "\n",
        "X_train, X_test, y_train, y_test = train_test_split(X, y, test_size=0.2, shuffle=False)"
      ],
      "metadata": {
        "id": "IZjqGkgbfYIb"
      },
      "execution_count": 4,
      "outputs": []
    },
    {
      "cell_type": "markdown",
      "source": [
        "### Transforming"
      ],
      "metadata": {
        "id": "8khPX0DTStdP"
      }
    },
    {
      "cell_type": "markdown",
      "source": [
        "1. Refresh your mind on tranformation methods by going back to the material. I am simply providing 1 example here.\n",
        "1. Don't repeat my logarithmic return calculation, develop your own transformation (there are 1000s of types of transformations).\n",
        "1. In the example I provide, there is also an error that you have to fix. For example, one of the errors below is that you should actually use `np.log1p()`, but there is another one, so watch out!"
      ],
      "metadata": {
        "id": "y6ZyMnQ__B49"
      }
    },
    {
      "cell_type": "code",
      "source": [
        "# Example Transforming (has errors)\n",
        "\n",
        "# Name: Logarithmic return of FTSE\n",
        "# Description: Developing the logarithmic return feature for use within linear models that make normality assumptions.\n",
        "\n",
        "df[\"FTSE_log\"] = np.log1p(df[\"FTSE\"].pct_change())"
      ],
      "metadata": {
        "id": "4dwunC3GSrK2"
      },
      "execution_count": 5,
      "outputs": []
    },
    {
      "cell_type": "markdown",
      "source": [
        "This code calculates the percentage change of the \"FTSE\" index using `pct_change()` method. Then, it applies `np.log1p()` to compute the natural log of one plus the percentage change, ensuring numerical stability. We use `np.log1p()` since we are dealing with small values close to zero instead of the traditional `np.log()`"
      ],
      "metadata": {
        "id": "_VVHMrxBkTF3"
      }
    },
    {
      "cell_type": "code",
      "source": [
        "## Transforming 1 (Add code below)\n",
        "\n",
        "# Apply moving averages to the entire dataset\n",
        "sma_cols = ['FTSE', 'EuroStoxx50', 'SP500', 'Russel2000', 'EuroStox_Small', 'FTSE_Small', 'MSCI_EM', 'Gold', 'CRB']\n",
        "for col in sma_cols:\n",
        "    df[f'{col}_SMA_10'] = df[col].rolling(window=10).mean()\n",
        "    df[f'{col}_SMA_20'] = df[col].rolling(window=20).mean()"
      ],
      "metadata": {
        "id": "8JvCCtvoT_2a"
      },
      "execution_count": 6,
      "outputs": []
    },
    {
      "cell_type": "markdown",
      "source": [
        "I calulated Simple Moving Average for the stock indices and commodity prices in our dataset. SMA gives equal weight to all prices within the specified window. By including moving averages with different window sizes (e.g., 10 and 20 periods), we can capture short-term and medium-term trends. Moving averages help smooth out short-term fluctations in price data, making it easier to identify the underlying trend"
      ],
      "metadata": {
        "id": "KaVsZUHFSirP"
      }
    },
    {
      "cell_type": "code",
      "source": [
        "## Transforming 2 (Add code below)\n",
        "# Apply Bollinger Bands to the entire dataset\n",
        "bb_cols = ['FTSE', 'EuroStoxx50', 'SP500', 'Russel2000', 'EuroStox_Small', 'FTSE_Small', 'MSCI_EM', 'Gold', 'CRB']\n",
        "for col in bb_cols:\n",
        "    df[f'{col}_BB_Middle'] = df[col].rolling(window=20).mean()\n",
        "    df[f'{col}_BB_Upper'] = df[f'{col}_BB_Middle'] + 2 * df[col].rolling(window=20).std()\n",
        "    df[f'{col}_BB_Lower'] = df[f'{col}_BB_Middle'] - 2 * df[col].rolling(window=20).std()\n"
      ],
      "metadata": {
        "id": "FOCuKHEmT_wU"
      },
      "execution_count": 7,
      "outputs": []
    },
    {
      "cell_type": "markdown",
      "source": [
        "I calculared the Bollinger Bands. The middle band is set as a 20-period moving average, and the upper and lower bands are set two standard deviations away from the middle band. By comparing the price action to the Bollinger Bands, we can gauge the volatility and potential overbought or oversold conditions. Bollinger Bands help measure the volatility of an asset's price and identify potential overbought or oversold conditions."
      ],
      "metadata": {
        "id": "pLc6F__xURPd"
      }
    },
    {
      "cell_type": "code",
      "source": [
        "## Transforming 3 (Add code below)\n",
        "\n",
        "# Apply RSI to the entire dataset\n",
        "rsi_cols = ['FTSE', 'EuroStoxx50', 'SP500', 'Russel2000', 'EuroStox_Small', 'FTSE_Small', 'MSCI_EM', 'Gold', 'CRB']\n",
        "for col in rsi_cols:\n",
        "    delta = df[col].diff()\n",
        "    gain = delta.where(delta > 0, 0)\n",
        "    loss = -delta.where(delta < 0, 0)\n",
        "    avg_gain = gain.rolling(window=14).mean()\n",
        "    avg_loss = loss.rolling(window=14).mean()\n",
        "    rs = avg_gain / avg_loss\n",
        "    df[f'{col}_RSI'] = 100 - (100 / (1 + rs))"
      ],
      "metadata": {
        "id": "ghn81UtvPYmF"
      },
      "execution_count": 8,
      "outputs": []
    },
    {
      "cell_type": "markdown",
      "source": [
        "I caclulated the RSI (Relative Strength Index). RSI is computed by comparing the magnitude of recent gains to recent losses over a specified period (usually 14 periods). A high RSI value indicates that the asset has experienced more gains than losses recently, suggesting a potentially overbought condition. Conversely, a low RSI value indicates more losses than gains, suggesting a potentially oversold condition. RSI is a momentum oscillator that measures the speed and change of price movements. It helps identify overbought or oversold conditions and potential trend reversals. RSI ranges from 0 to 100, with values above 70 typically considered overbought and values below 30 considered oversold."
      ],
      "metadata": {
        "id": "qzHS4j2KUfUZ"
      }
    },
    {
      "cell_type": "markdown",
      "source": [
        "### Interacting"
      ],
      "metadata": {
        "id": "CiyIliYJTJRN"
      }
    },
    {
      "cell_type": "markdown",
      "source": [
        "There are millions of possible interaction methods, be creative and come up with your own. For this assignment there is no 'right' feature engineering method, you simply develop one, and give it a name and a discreption."
      ],
      "metadata": {
        "id": "XWuduQ-m_q7R"
      }
    },
    {
      "cell_type": "code",
      "source": [
        "# Example Interacting (has errors)\n",
        "\n",
        "# Name: Ratio of Gold return to 10Y treasury\n",
        "# Desciption: Both gold and treasuries are safe-haven assets and descrepency in their ratio could be a sign of some marco-economic event.\n",
        "\n",
        "def gold_to_yield(df):\n",
        "    # Calculate percentage change of \"US-10Y\" column\n",
        "    teny_returns = df[\"US-10Y\"].pct_change()\n",
        "\n",
        "    # Handle NaN values in teny_returns\n",
        "    teny_returns.replace([np.inf, -np.inf], np.nan, inplace=True)\n",
        "    teny_returns.fillna(method='ffill', inplace=True)  # Forward fill NaN values\n",
        "\n",
        "    # Calculate gold_r__div__teny_r\n",
        "    gold_returns = df[\"Gold\"]\n",
        "\n",
        "    # Handle division by zero\n",
        "    df[\"gold_r__div__teny_r\"] = np.where(teny_returns != 0, gold_returns / teny_returns, np.nan)\n",
        "\n",
        "    return df\n",
        "\n",
        "X_train = gold_to_yield(X_train); X_test = gold_to_yield(X_test)"
      ],
      "metadata": {
        "id": "IN3tnhNUTDK3"
      },
      "execution_count": 9,
      "outputs": []
    },
    {
      "cell_type": "markdown",
      "source": [
        "The function `gold_to_yield()` was updated to include error handling for division by zero. This was achieved by checking if the percentage change of the \"US-10Y\" column is not zero before performing the division operation. If it's zero, NaN is assigned to the corresponding entry in the `gold_r__div__teny_r` column to prevent the occurrence of inf (infinity) values in the output."
      ],
      "metadata": {
        "id": "5hlbCfq4Lq-s"
      }
    },
    {
      "cell_type": "code",
      "source": [
        "## Interacting 1 (Add code below)\n",
        "\n",
        "def emerging_markets_exposure(df):\n",
        "    # Calculate the ratio of MSCI Emerging Markets Index returns to S&P 500 returns\n",
        "    em_sp500_ratio = df[\"MSCI_EM\"].pct_change() / df[\"SP500\"].pct_change()\n",
        "\n",
        "    # Handle NaN values\n",
        "    em_sp500_ratio.replace([np.inf, -np.inf], np.nan, inplace=True)\n",
        "    em_sp500_ratio.fillna(method='ffill', inplace=True)  # Forward fill NaN values\n",
        "\n",
        "    # Create a new feature for emerging markets exposure\n",
        "    df[\"emerging_markets_exposure\"] = em_sp500_ratio\n",
        "\n",
        "    return df\n",
        "\n",
        "X_train = emerging_markets_exposure(X_train)\n",
        "X_test = emerging_markets_exposure(X_test)"
      ],
      "metadata": {
        "id": "hwB5gEVjT1dz"
      },
      "execution_count": 10,
      "outputs": []
    },
    {
      "cell_type": "markdown",
      "source": [
        "The ratio of the MSCI Emerging Markets Index returns to the S&P 500 returns could indicate the level of exposure to emerging markets within an investment portfolio, potentially reflecting changes in global economic dynamics."
      ],
      "metadata": {
        "id": "yXfjuL3wl5md"
      }
    },
    {
      "cell_type": "code",
      "source": [
        "## Interacting 2 (Add code below)\n",
        "\n",
        "def bond_yield_curve_slope(df):\n",
        "    # Calculate the difference in yields between 30-year and 2-year French government bonds\n",
        "    yield_curve_slope = df[\"French-30Y\"] - df[\"French-2Y\"]\n",
        "\n",
        "    # Create a new feature for bond yield curve slope\n",
        "    df[\"bond_yield_curve_slope\"] = yield_curve_slope\n",
        "\n",
        "    return df\n",
        "\n",
        "X_train = bond_yield_curve_slope(X_train)\n",
        "X_test = bond_yield_curve_slope(X_test)"
      ],
      "metadata": {
        "id": "W-TYsjyUTuF2"
      },
      "execution_count": 11,
      "outputs": []
    },
    {
      "cell_type": "markdown",
      "source": [
        "The difference between the yields of long-term (30-year) and short-term (2-year) French government bonds could indicate changes in the shape of the yield curve, reflecting shifts in interest rate expectations or economic conditions."
      ],
      "metadata": {
        "id": "VWMMUya2ls5L"
      }
    },
    {
      "cell_type": "code",
      "source": [
        "## Interacting 3 (Add code below)\n",
        "\n",
        "def market_cap_spread(df):\n",
        "    # Calculate the difference in market capitalizations between EuroStoxx50 and FTSE\n",
        "    euro_stoxx50_market_cap = df[\"EuroStoxx50\"]\n",
        "    ftse_market_cap = df[\"FTSE\"]\n",
        "    market_cap_spread = euro_stoxx50_market_cap - ftse_market_cap\n",
        "\n",
        "    # Create a new feature for market-cap spread\n",
        "    df[\"market_cap_spread\"] = market_cap_spread\n",
        "\n",
        "    return df\n",
        "\n",
        "X_train = market_cap_spread(X_train)\n",
        "X_test = market_cap_spread(X_test)"
      ],
      "metadata": {
        "id": "7iClfjUDPWu2"
      },
      "execution_count": 12,
      "outputs": []
    },
    {
      "cell_type": "markdown",
      "source": [
        "The difference between the market capitalizations of the EuroStoxx50 and the FTSE indices could signify relative shifts in market sentiment or investor preferences across Eurozone and UK stocks."
      ],
      "metadata": {
        "id": "RgEh49uBnzRj"
      }
    },
    {
      "cell_type": "markdown",
      "source": [
        "### Mapping"
      ],
      "metadata": {
        "id": "DwVvQ7NKdy6B"
      }
    },
    {
      "cell_type": "markdown",
      "source": [
        "This one is slightly harder, you have to identify other  dimensionality reduction methods, there are many more than just PCA. Maybe you can also look at performing the decompositions just on a single asset classes, e.g., US-2Y, US-5Y, US-10Y, US-30Y is a fixed income asset class, but there are a few others in the dataset."
      ],
      "metadata": {
        "id": "m4Rc0htlDnrA"
      }
    },
    {
      "cell_type": "code",
      "source": [
        "# Example Mapping (has errors)\n",
        "\n",
        "# Name: First prinicipal component of all of the assets returns\n",
        "# Description:For stocks the first component resmbles the return of the market, for multiple asset classes it could resemble a 'universal' asset class\n",
        "\n",
        "\n",
        "from sklearn.decomposition import PCA\n",
        "from sklearn.preprocessing import StandardScaler\n",
        "\n",
        "def pca_first(X_train, X_test):\n",
        "    # Fill missing values with column means\n",
        "    X_train_filled = X_train.fillna(X_train.mean())\n",
        "    X_test_filled = X_test.fillna(X_train.mean())  # Fill test set with train set means\n",
        "\n",
        "    # Scale the data\n",
        "    sc = StandardScaler()\n",
        "    X_train_scaled = sc.fit_transform(X_train_filled)\n",
        "    X_test_scaled = sc.transform(X_test_filled)\n",
        "\n",
        "    # Perform PCA\n",
        "    pca = PCA(n_components=1)\n",
        "    X_train_pca = pca.fit_transform(X_train_scaled)\n",
        "    X_test_pca = pca.transform(X_test_scaled)\n",
        "\n",
        "    # Assign the first principal component as a new feature\n",
        "    X_train[\"first_principal\"] = X_train_pca\n",
        "    X_test[\"first_principal\"] = X_test_pca\n",
        "\n",
        "    return X_train, X_test\n",
        "\n",
        "X_train, X_test = pca_first(X_train, X_test)\n",
        "\n",
        "\n",
        "# # ValueError: Input contains infinity or a value too large for dtype('float64'). Fix it!"
      ],
      "metadata": {
        "id": "IuR-aeFNd0LR"
      },
      "execution_count": 13,
      "outputs": []
    },
    {
      "cell_type": "markdown",
      "source": [
        "This code addresses missing values by filling them with column means, scales the data using `StandardScaler`, performs PCA to extract the first principal component, and then assigns it as a new feature in both the training and test datasets."
      ],
      "metadata": {
        "id": "ipltfORGp1v9"
      }
    },
    {
      "cell_type": "code",
      "source": [
        "## Mapping 1 (Add code below)\n",
        "\n",
        "from sklearn.decomposition import SparsePCA\n",
        "\n",
        "def sparse_pca_reduction(X_train, X_test, n_components=2):\n",
        "    fixed_income_assets = [\"US-2Y\", \"US-5Y\", \"US-10Y\", \"US-30Y\"]\n",
        "    X_train_fixed_income = X_train[fixed_income_assets]\n",
        "    X_test_fixed_income = X_test[fixed_income_assets]\n",
        "\n",
        "    sparse_pca = SparsePCA(n_components=n_components, random_state=42)\n",
        "    X_train_sparse_pca = sparse_pca.fit_transform(X_train_fixed_income)\n",
        "    X_test_sparse_pca = sparse_pca.transform(X_test_fixed_income)\n",
        "\n",
        "    return X_train_sparse_pca, X_test_sparse_pca\n",
        "\n",
        "# Apply SparsePCA on fixed income asset class\n",
        "X_train_sparse_pca, X_test_sparse_pca = sparse_pca_reduction(X_train, X_test, n_components=2)"
      ],
      "metadata": {
        "id": "6XAoLXiajaIO"
      },
      "execution_count": 14,
      "outputs": []
    },
    {
      "cell_type": "markdown",
      "source": [
        "The fixed income asset class typically consists of data with sparse patterns, as changes in bond yields may not occur frequently. SparsePCA is chosen as it encourages sparsity in the components it extracts. By applying SparsePCA specifically on the fixed income asset class, we aim to capture sparse representations of the data, emphasizing the most important features while minimizing the impact of noise."
      ],
      "metadata": {
        "id": "9QZrbObH9YZH"
      }
    },
    {
      "cell_type": "code",
      "source": [
        "## Mapping 2 (Add code below)\n",
        "from sklearn.decomposition import NMF\n",
        "\n",
        "def nmf_equity_reduction(X_train, X_test, n_components=2):\n",
        "    equity_assets = [\"FTSE\", \"EuroStoxx50\", \"SP500\"]\n",
        "    X_train_equity = X_train[equity_assets]\n",
        "    X_test_equity = X_test[equity_assets]\n",
        "\n",
        "    nmf = NMF(n_components=n_components, random_state=42)\n",
        "    X_train_nmf = nmf.fit_transform(X_train_equity)\n",
        "    X_test_nmf = nmf.transform(X_test_equity)\n",
        "\n",
        "    return X_train_nmf, X_test_nmf\n",
        "\n",
        "# Apply NMF on equity asset class\n",
        "X_train_nmf, X_test_nmf = nmf_equity_reduction(X_train, X_test, n_components=2)"
      ],
      "metadata": {
        "id": "lUmRlTldjb63",
        "colab": {
          "base_uri": "https://localhost:8080/"
        },
        "outputId": "37e673c8-c14d-4abd-e9c8-dad374a43aa2"
      },
      "execution_count": 15,
      "outputs": [
        {
          "output_type": "stream",
          "name": "stderr",
          "text": [
            "/usr/local/lib/python3.10/dist-packages/sklearn/decomposition/_nmf.py:1665: ConvergenceWarning: Maximum number of iterations 200 reached. Increase it to improve convergence.\n",
            "  warnings.warn(\n"
          ]
        }
      ]
    },
    {
      "cell_type": "markdown",
      "source": [
        "Non-Negative Matrix Factorization (NMF) is a technique that decomposes a matrix into the product of two lower-rank matrices, ensuring that all elements are non-negative. The equity asset class often contains data with inherently non-negative values, such as stock prices or market indices. By utilizing NMF specifically on the equity asset class, we aim to factorize the data into non-negative components, which could represent underlying factors or patterns in the equity market."
      ],
      "metadata": {
        "id": "AvwWuE9w9lq4"
      }
    },
    {
      "cell_type": "code",
      "source": [
        "## Mapping 3 (Add code below)\n",
        "\n",
        "from sklearn.decomposition import FastICA\n",
        "\n",
        "def ica_commodity_reduction(X_train, X_test, n_components=2):\n",
        "    commodity_assets = [\"Gold\", \"CRB\"]\n",
        "    X_train_commodity = X_train[commodity_assets]\n",
        "    X_test_commodity = X_test[commodity_assets]\n",
        "\n",
        "    ica = FastICA(n_components=n_components, random_state=42)\n",
        "    X_train_ica = ica.fit_transform(X_train_commodity)\n",
        "    X_test_ica = ica.transform(X_test_commodity)\n",
        "\n",
        "    return X_train_ica, X_test_ica\n",
        "\n",
        "# Apply ICA on commodity asset class\n",
        "X_train_ica, X_test_ica = ica_commodity_reduction(X_train, X_test, n_components=2)"
      ],
      "metadata": {
        "id": "eh6vU15ePTKm",
        "colab": {
          "base_uri": "https://localhost:8080/"
        },
        "outputId": "ef733aea-60db-46e2-cb18-ec0a0257da38"
      },
      "execution_count": 16,
      "outputs": [
        {
          "output_type": "stream",
          "name": "stderr",
          "text": [
            "/usr/local/lib/python3.10/dist-packages/sklearn/decomposition/_fastica.py:542: FutureWarning: Starting in v1.3, whiten='unit-variance' will be used by default.\n",
            "  warnings.warn(\n"
          ]
        }
      ]
    },
    {
      "cell_type": "markdown",
      "source": [
        "Independent Component Analysis (ICA) is a method for separating a multivariate signal into additive, independent components. The commodity asset class typically consists of various commodities that may exhibit independent behavior from each other. By applying ICA specifically on the commodity asset class, such as gold and commodity index prices, we aim to extract independent components from the data, which could represent distinct market dynamics or sources of variability in commodity prices."
      ],
      "metadata": {
        "id": "E4ywf1rC9nU1"
      }
    },
    {
      "cell_type": "markdown",
      "source": [
        "Extracting"
      ],
      "metadata": {
        "id": "KtRBRXeRd_ad"
      }
    },
    {
      "cell_type": "code",
      "source": [
        "# Example Extracting (has errors)\n",
        "# Name: Annualized volatility in returns\n",
        "# Description: We are developing an annualized volatility measure for all asset returns, which is a good measure of market turbulence\n",
        "\n",
        "def annualized_volatility(df, window=365):\n",
        "    # Calculate percentage change of asset returns\n",
        "    returns = df.pct_change()\n",
        "\n",
        "    # Calculate rolling standard deviation and annualize\n",
        "    volatility = returns.rolling(window=window).std() * (365 ** 0.5)\n",
        "\n",
        "    # Rename columns with '_vol' suffix\n",
        "    new_columns = [f\"{col}_vol\" for col in df.columns]\n",
        "    volatility.columns = new_columns\n",
        "\n",
        "    # Align indices before concatenating\n",
        "    volatility = volatility.reindex(df.index)\n",
        "\n",
        "    # Concatenate original DataFrame with volatility DataFrame\n",
        "    df_with_volatility = pd.concat([df, volatility], axis=1)\n",
        "\n",
        "    return df_with_volatility\n",
        "\n",
        "# Example usage\n",
        "X_train = annualized_volatility(X_train)\n",
        "X_test = annualized_volatility(X_test)"
      ],
      "metadata": {
        "id": "lHpV2LxIeA9i"
      },
      "execution_count": 17,
      "outputs": []
    },
    {
      "cell_type": "markdown",
      "source": [
        "The error in the code was due to the misalignment of indices during concatenation. I added the line volatility = volatility.reindex(df.index) to align the indices of the volatility DataFrame with the original DataFrame df and ensured that the concatenation of the original DataFrame with the volatility DataFrame is done with aligned indices, preventing any mismatch between rows."
      ],
      "metadata": {
        "id": "Y1f0u55t-4JM"
      }
    },
    {
      "cell_type": "code",
      "source": [
        "## Extracting 1 (Add code below)\n",
        "def rolling_average_bond_yields(df, maturity_periods=['US-2Y', 'US-5Y', 'US-10Y', 'US-30Y'], window=30):\n",
        "    for period in maturity_periods:\n",
        "        df[f'{period}_rolling_avg'] = df[period].rolling(window=window).mean()\n",
        "    return df\n",
        "\n",
        "# Example usage\n",
        "X_train = rolling_average_bond_yields(X_train)\n",
        "X_test = rolling_average_bond_yields(X_test)"
      ],
      "metadata": {
        "id": "P165fWF9PNdx"
      },
      "execution_count": 18,
      "outputs": []
    },
    {
      "cell_type": "markdown",
      "source": [
        "I calculated the rolling average of bond yields for different maturity periods (e.g., US-2Y, US-5Y, US-10Y, US-30Y). This extraction method captures the trend in bond yields over time, providing insights into the yield curve dynamics."
      ],
      "metadata": {
        "id": "x0wBcbzb_pg8"
      }
    },
    {
      "cell_type": "code",
      "source": [
        "## Extracting 2 (Add code below)\n",
        "def price_momentum_indicator(df, indices=['FTSE', 'EuroStoxx50', 'SP500'], window=30):\n",
        "    for index in indices:\n",
        "        df[f'{index}_momentum'] = df[index].diff(window)\n",
        "    return df\n",
        "\n",
        "# Example usage\n",
        "X_train = price_momentum_indicator(X_train)\n",
        "X_test = price_momentum_indicator(X_test)"
      ],
      "metadata": {
        "id": "GODtIouyPQK-"
      },
      "execution_count": 19,
      "outputs": []
    },
    {
      "cell_type": "markdown",
      "source": [
        "I calculated the price momentum indicator for equity indices (e.g., FTSE, EuroStoxx50, SP500) to identify the strength and persistence of price trends. This extraction method helps capture the momentum effect observed in financial markets. Positive values indicate positive momentum, while negative values indicate negative momentum."
      ],
      "metadata": {
        "id": "9-wguC54_uVJ"
      }
    },
    {
      "cell_type": "code",
      "source": [
        "## Extracting 3 (Add code below)\n",
        "def volatility_ratio_gold_equity(df, gold_column='Gold', equity_indices=['SP500', 'EuroStoxx50'], window=90):\n",
        "    for index in equity_indices:\n",
        "        df[f'{index}_rolling_std'] = df[index].rolling(window=window).std()\n",
        "    df['gold_equity_volatility_ratio'] = df[gold_column].rolling(window=window).std() / df[[f'{index}_rolling_std' for index in equity_indices]].mean(axis=1)\n",
        "    return df\n",
        "\n",
        "# Example usage\n",
        "X_train = volatility_ratio_gold_equity(X_train)\n",
        "X_test = volatility_ratio_gold_equity(X_test)"
      ],
      "metadata": {
        "id": "Fi2MaoAcPRFH"
      },
      "execution_count": 20,
      "outputs": []
    },
    {
      "cell_type": "markdown",
      "source": [
        "I computed the volatility ratio between gold prices and equity indices (e.g., SP500, EuroStoxx50) to assess the relative volatility of gold compared to equities. This extraction method helps gauge the risk-adjusted performance of gold as a safe-haven asset. Higher values indicate higher volatility in gold relative to equities."
      ],
      "metadata": {
        "id": "OQKy-FCs_xZR"
      }
    },
    {
      "cell_type": "markdown",
      "source": [
        "## Deep Learning Binary Classification"
      ],
      "metadata": {
        "id": "WhDvqiPnHccB"
      }
    },
    {
      "cell_type": "markdown",
      "source": [
        "* For the deep learning model you can perform new data preprocessing methods and new feature engineering that are better suited to neural networks. You can also use all or some of the features you developed above (most features work in deep learning models as long as they are normalized).\n",
        "* It is very hard to predict the stock price, so in my grading I will look more at the quality of the model you process (e.g., that there is no data leakage, that you performed some hyperparameter tuning).\n",
        "* Make sure that you switch your GPU on, you have access to it on Colab. The training stage also takes long, you might want to use a smaller amount of data, or fewer epochs at first to speed up your development process.\n",
        "* After your training is done, you don't have to save your model, but you do have to print the performance of your model. You can report two metrics the ROC(AUC) and the Accuracy against the test set.\n",
        "* Also remember to set the random seed (random state) so that when I run your software, I get similar results (the results doesn't have to be exactely the same).\n",
        "* You can choose any type of deep learning archetecture, e.g., LSTM, GRU, CNN, it is up to you.\n",
        "* Remember that this section is less that 25% of the grade, so don't waste your time here.\n",
        "* And lastly, remember this is the stock market, so it is **difficult** to have an accuracy above 50%, good luck!"
      ],
      "metadata": {
        "id": "JoNmgbgWHjGs"
      }
    },
    {
      "cell_type": "code",
      "source": [
        "## Implement Here\n",
        "\n",
        "import numpy as np\n",
        "import pandas as pd\n",
        "from sklearn.preprocessing import MinMaxScaler\n",
        "from sklearn.metrics import roc_auc_score, accuracy_score, confusion_matrix, classification_report\n",
        "from keras.models import Sequential\n",
        "from keras.layers import LSTM, Dense, Dropout\n",
        "from keras.optimizers import Adam\n",
        "from sklearn.base import BaseEstimator, ClassifierMixin\n",
        "from sklearn.model_selection import RandomizedSearchCV\n",
        "import matplotlib.pyplot as plt\n",
        "\n",
        "# Set the random seed for reproducibility\n",
        "np.random.seed(42)\n",
        "\n",
        "# Remove samples with missing values\n",
        "X_train = X_train.dropna()\n",
        "y_train = y_train[X_train.index]\n",
        "X_test = X_test.dropna()\n",
        "y_test = y_test[X_test.index]\n",
        "\n",
        "# Perform data preprocessing and feature scaling\n",
        "scaler = MinMaxScaler()\n",
        "X_train_scaled = scaler.fit_transform(X_train)\n",
        "X_test_scaled = scaler.transform(X_test)\n",
        "\n",
        "# Reshape the input data for LSTM\n",
        "X_train_reshaped = X_train_scaled.reshape(X_train_scaled.shape[0], 1, X_train_scaled.shape[1])\n",
        "X_test_reshaped = X_test_scaled.reshape(X_test_scaled.shape[0], 1, X_test_scaled.shape[1])\n",
        "\n",
        "# Define the Keras LSTM model class\n",
        "class KerasLSTMClassifier(BaseEstimator, ClassifierMixin):\n",
        "    def __init__(self, lstm_units=32, dropout_rate=0.1, learning_rate=0.001, epochs=50, batch_size=32):\n",
        "        self.lstm_units = lstm_units\n",
        "        self.dropout_rate = dropout_rate\n",
        "        self.learning_rate = learning_rate\n",
        "        self.epochs = epochs\n",
        "        self.batch_size = batch_size\n",
        "        self.model = self.create_model()\n",
        "\n",
        "    def create_model(self):\n",
        "        model = Sequential()\n",
        "        model.add(LSTM(self.lstm_units, input_shape=(1, X_train_scaled.shape[1])))\n",
        "        model.add(Dropout(self.dropout_rate))\n",
        "        model.add(Dense(32, activation='relu'))\n",
        "        model.add(Dropout(self.dropout_rate))\n",
        "        model.add(Dense(1, activation='sigmoid'))\n",
        "        model.compile(optimizer=Adam(learning_rate=self.learning_rate), loss='binary_crossentropy', metrics=['accuracy'])\n",
        "        return model\n",
        "\n",
        "    def fit(self, X, y):\n",
        "        self.model.fit(X, y, epochs=self.epochs, batch_size=self.batch_size, verbose=0)\n",
        "        return self\n",
        "\n",
        "    def predict_proba(self, X):\n",
        "        return self.model.predict(X)\n",
        "\n",
        "    def predict(self, X):\n",
        "        return (self.predict_proba(X) > 0.5).astype(int)\n",
        "\n",
        "# Create an instance of the KerasLSTMClassifier\n",
        "keras_classifier = KerasLSTMClassifier()\n",
        "\n",
        "# Define the hyperparameter grid\n",
        "param_dist = {\n",
        "    'lstm_units': [32, 64, 128],\n",
        "    'dropout_rate': [0.1, 0.2, 0.3],\n",
        "    'learning_rate': [0.001, 0.01, 0.1]\n",
        "}\n",
        "\n",
        "# Perform random search for hyperparameter tuning\n",
        "random_search = RandomizedSearchCV(estimator=keras_classifier, param_distributions=param_dist, n_iter=10, cv=3, random_state=42)\n",
        "random_search.fit(X_train_reshaped, y_train)\n",
        "\n",
        "# Get the best model and hyperparameters\n",
        "best_model = random_search.best_estimator_\n",
        "best_params = random_search.best_params_\n",
        "print(\"Best Hyperparameters: \", best_params)\n",
        "\n",
        "# Make predictions on the test set\n",
        "y_pred_prob = best_model.predict_proba(X_test_reshaped)\n",
        "y_pred = best_model.predict(X_test_reshaped)\n",
        "\n",
        "# Calculate the ROC AUC and accuracy\n",
        "roc_auc = roc_auc_score(y_test, y_pred_prob)\n",
        "accuracy = accuracy_score(y_test, y_pred)\n",
        "\n",
        "print(\"ROC AUC: {:.4f}\".format(roc_auc))\n",
        "print(\"Accuracy: {:.4f}\".format(accuracy))\n",
        "\n",
        "# Plot the confusion matrix\n",
        "cm = confusion_matrix(y_test, y_pred)\n",
        "plt.figure(figsize=(8, 6))\n",
        "plt.imshow(cm, interpolation='nearest', cmap=plt.cm.Blues)\n",
        "plt.title('Confusion Matrix')\n",
        "plt.colorbar()\n",
        "tick_marks = np.arange(2)\n",
        "plt.xticks(tick_marks, ['Negative', 'Positive'])\n",
        "plt.yticks(tick_marks, ['Negative', 'Positive'])\n",
        "plt.xlabel('Predicted Label')\n",
        "plt.ylabel('True Label')\n",
        "plt.show()\n",
        "\n",
        "# Print the classification report\n",
        "print(classification_report(y_test, y_pred))\n"
      ],
      "metadata": {
        "id": "Rzk2wizgHwlP",
        "colab": {
          "base_uri": "https://localhost:8080/",
          "height": 1000
        },
        "outputId": "6178e6a1-4051-4714-d3ce-ec5dd9a2f224"
      },
      "execution_count": 21,
      "outputs": [
        {
          "output_type": "stream",
          "name": "stderr",
          "text": [
            "/usr/local/lib/python3.10/dist-packages/keras/src/layers/rnn/rnn.py:204: UserWarning: Do not pass an `input_shape`/`input_dim` argument to a layer. When using Sequential models, prefer using an `Input(shape)` object as the first layer in the model instead.\n",
            "  super().__init__(**kwargs)\n",
            "/usr/local/lib/python3.10/dist-packages/keras/src/layers/rnn/rnn.py:204: UserWarning: Do not pass an `input_shape`/`input_dim` argument to a layer. When using Sequential models, prefer using an `Input(shape)` object as the first layer in the model instead.\n",
            "  super().__init__(**kwargs)\n",
            "/usr/local/lib/python3.10/dist-packages/keras/src/layers/rnn/rnn.py:204: UserWarning: Do not pass an `input_shape`/`input_dim` argument to a layer. When using Sequential models, prefer using an `Input(shape)` object as the first layer in the model instead.\n",
            "  super().__init__(**kwargs)\n"
          ]
        },
        {
          "output_type": "stream",
          "name": "stdout",
          "text": [
            "\u001b[1m53/53\u001b[0m \u001b[32m━━━━━━━━━━━━━━━━━━━━\u001b[0m\u001b[37m\u001b[0m \u001b[1m0s\u001b[0m 5ms/step\n"
          ]
        },
        {
          "output_type": "stream",
          "name": "stderr",
          "text": [
            "/usr/local/lib/python3.10/dist-packages/keras/src/layers/rnn/rnn.py:204: UserWarning: Do not pass an `input_shape`/`input_dim` argument to a layer. When using Sequential models, prefer using an `Input(shape)` object as the first layer in the model instead.\n",
            "  super().__init__(**kwargs)\n"
          ]
        },
        {
          "output_type": "stream",
          "name": "stdout",
          "text": [
            "\u001b[1m53/53\u001b[0m \u001b[32m━━━━━━━━━━━━━━━━━━━━\u001b[0m\u001b[37m\u001b[0m \u001b[1m0s\u001b[0m 5ms/step\n"
          ]
        },
        {
          "output_type": "stream",
          "name": "stderr",
          "text": [
            "/usr/local/lib/python3.10/dist-packages/keras/src/layers/rnn/rnn.py:204: UserWarning: Do not pass an `input_shape`/`input_dim` argument to a layer. When using Sequential models, prefer using an `Input(shape)` object as the first layer in the model instead.\n",
            "  super().__init__(**kwargs)\n"
          ]
        },
        {
          "output_type": "stream",
          "name": "stdout",
          "text": [
            "\u001b[1m53/53\u001b[0m \u001b[32m━━━━━━━━━━━━━━━━━━━━\u001b[0m\u001b[37m\u001b[0m \u001b[1m0s\u001b[0m 5ms/step\n"
          ]
        },
        {
          "output_type": "stream",
          "name": "stderr",
          "text": [
            "/usr/local/lib/python3.10/dist-packages/keras/src/layers/rnn/rnn.py:204: UserWarning: Do not pass an `input_shape`/`input_dim` argument to a layer. When using Sequential models, prefer using an `Input(shape)` object as the first layer in the model instead.\n",
            "  super().__init__(**kwargs)\n"
          ]
        },
        {
          "output_type": "stream",
          "name": "stdout",
          "text": [
            "\u001b[1m53/53\u001b[0m \u001b[32m━━━━━━━━━━━━━━━━━━━━\u001b[0m\u001b[37m\u001b[0m \u001b[1m0s\u001b[0m 5ms/step\n"
          ]
        },
        {
          "output_type": "stream",
          "name": "stderr",
          "text": [
            "/usr/local/lib/python3.10/dist-packages/keras/src/layers/rnn/rnn.py:204: UserWarning: Do not pass an `input_shape`/`input_dim` argument to a layer. When using Sequential models, prefer using an `Input(shape)` object as the first layer in the model instead.\n",
            "  super().__init__(**kwargs)\n"
          ]
        },
        {
          "output_type": "stream",
          "name": "stdout",
          "text": [
            "\u001b[1m53/53\u001b[0m \u001b[32m━━━━━━━━━━━━━━━━━━━━\u001b[0m\u001b[37m\u001b[0m \u001b[1m0s\u001b[0m 4ms/step\n"
          ]
        },
        {
          "output_type": "stream",
          "name": "stderr",
          "text": [
            "/usr/local/lib/python3.10/dist-packages/keras/src/layers/rnn/rnn.py:204: UserWarning: Do not pass an `input_shape`/`input_dim` argument to a layer. When using Sequential models, prefer using an `Input(shape)` object as the first layer in the model instead.\n",
            "  super().__init__(**kwargs)\n"
          ]
        },
        {
          "output_type": "stream",
          "name": "stdout",
          "text": [
            "\u001b[1m53/53\u001b[0m \u001b[32m━━━━━━━━━━━━━━━━━━━━\u001b[0m\u001b[37m\u001b[0m \u001b[1m0s\u001b[0m 5ms/step\n"
          ]
        },
        {
          "output_type": "stream",
          "name": "stderr",
          "text": [
            "/usr/local/lib/python3.10/dist-packages/keras/src/layers/rnn/rnn.py:204: UserWarning: Do not pass an `input_shape`/`input_dim` argument to a layer. When using Sequential models, prefer using an `Input(shape)` object as the first layer in the model instead.\n",
            "  super().__init__(**kwargs)\n"
          ]
        },
        {
          "output_type": "stream",
          "name": "stdout",
          "text": [
            "\u001b[1m53/53\u001b[0m \u001b[32m━━━━━━━━━━━━━━━━━━━━\u001b[0m\u001b[37m\u001b[0m \u001b[1m0s\u001b[0m 5ms/step\n"
          ]
        },
        {
          "output_type": "stream",
          "name": "stderr",
          "text": [
            "/usr/local/lib/python3.10/dist-packages/keras/src/layers/rnn/rnn.py:204: UserWarning: Do not pass an `input_shape`/`input_dim` argument to a layer. When using Sequential models, prefer using an `Input(shape)` object as the first layer in the model instead.\n",
            "  super().__init__(**kwargs)\n"
          ]
        },
        {
          "output_type": "stream",
          "name": "stdout",
          "text": [
            "\u001b[1m53/53\u001b[0m \u001b[32m━━━━━━━━━━━━━━━━━━━━\u001b[0m\u001b[37m\u001b[0m \u001b[1m0s\u001b[0m 5ms/step\n"
          ]
        },
        {
          "output_type": "stream",
          "name": "stderr",
          "text": [
            "/usr/local/lib/python3.10/dist-packages/keras/src/layers/rnn/rnn.py:204: UserWarning: Do not pass an `input_shape`/`input_dim` argument to a layer. When using Sequential models, prefer using an `Input(shape)` object as the first layer in the model instead.\n",
            "  super().__init__(**kwargs)\n"
          ]
        },
        {
          "output_type": "stream",
          "name": "stdout",
          "text": [
            "\u001b[1m53/53\u001b[0m \u001b[32m━━━━━━━━━━━━━━━━━━━━\u001b[0m\u001b[37m\u001b[0m \u001b[1m0s\u001b[0m 6ms/step\n"
          ]
        },
        {
          "output_type": "stream",
          "name": "stderr",
          "text": [
            "/usr/local/lib/python3.10/dist-packages/keras/src/layers/rnn/rnn.py:204: UserWarning: Do not pass an `input_shape`/`input_dim` argument to a layer. When using Sequential models, prefer using an `Input(shape)` object as the first layer in the model instead.\n",
            "  super().__init__(**kwargs)\n"
          ]
        },
        {
          "output_type": "stream",
          "name": "stdout",
          "text": [
            "\u001b[1m53/53\u001b[0m \u001b[32m━━━━━━━━━━━━━━━━━━━━\u001b[0m\u001b[37m\u001b[0m \u001b[1m0s\u001b[0m 5ms/step\n"
          ]
        },
        {
          "output_type": "stream",
          "name": "stderr",
          "text": [
            "/usr/local/lib/python3.10/dist-packages/keras/src/layers/rnn/rnn.py:204: UserWarning: Do not pass an `input_shape`/`input_dim` argument to a layer. When using Sequential models, prefer using an `Input(shape)` object as the first layer in the model instead.\n",
            "  super().__init__(**kwargs)\n"
          ]
        },
        {
          "output_type": "stream",
          "name": "stdout",
          "text": [
            "\u001b[1m53/53\u001b[0m \u001b[32m━━━━━━━━━━━━━━━━━━━━\u001b[0m\u001b[37m\u001b[0m \u001b[1m1s\u001b[0m 7ms/step\n"
          ]
        },
        {
          "output_type": "stream",
          "name": "stderr",
          "text": [
            "/usr/local/lib/python3.10/dist-packages/keras/src/layers/rnn/rnn.py:204: UserWarning: Do not pass an `input_shape`/`input_dim` argument to a layer. When using Sequential models, prefer using an `Input(shape)` object as the first layer in the model instead.\n",
            "  super().__init__(**kwargs)\n"
          ]
        },
        {
          "output_type": "stream",
          "name": "stdout",
          "text": [
            "\u001b[1m53/53\u001b[0m \u001b[32m━━━━━━━━━━━━━━━━━━━━\u001b[0m\u001b[37m\u001b[0m \u001b[1m0s\u001b[0m 5ms/step\n"
          ]
        },
        {
          "output_type": "stream",
          "name": "stderr",
          "text": [
            "/usr/local/lib/python3.10/dist-packages/keras/src/layers/rnn/rnn.py:204: UserWarning: Do not pass an `input_shape`/`input_dim` argument to a layer. When using Sequential models, prefer using an `Input(shape)` object as the first layer in the model instead.\n",
            "  super().__init__(**kwargs)\n"
          ]
        },
        {
          "output_type": "stream",
          "name": "stdout",
          "text": [
            "\u001b[1m53/53\u001b[0m \u001b[32m━━━━━━━━━━━━━━━━━━━━\u001b[0m\u001b[37m\u001b[0m \u001b[1m0s\u001b[0m 5ms/step\n"
          ]
        },
        {
          "output_type": "stream",
          "name": "stderr",
          "text": [
            "/usr/local/lib/python3.10/dist-packages/keras/src/layers/rnn/rnn.py:204: UserWarning: Do not pass an `input_shape`/`input_dim` argument to a layer. When using Sequential models, prefer using an `Input(shape)` object as the first layer in the model instead.\n",
            "  super().__init__(**kwargs)\n"
          ]
        },
        {
          "output_type": "stream",
          "name": "stdout",
          "text": [
            "\u001b[1m53/53\u001b[0m \u001b[32m━━━━━━━━━━━━━━━━━━━━\u001b[0m\u001b[37m\u001b[0m \u001b[1m0s\u001b[0m 5ms/step\n"
          ]
        },
        {
          "output_type": "stream",
          "name": "stderr",
          "text": [
            "/usr/local/lib/python3.10/dist-packages/keras/src/layers/rnn/rnn.py:204: UserWarning: Do not pass an `input_shape`/`input_dim` argument to a layer. When using Sequential models, prefer using an `Input(shape)` object as the first layer in the model instead.\n",
            "  super().__init__(**kwargs)\n"
          ]
        },
        {
          "output_type": "stream",
          "name": "stdout",
          "text": [
            "\u001b[1m53/53\u001b[0m \u001b[32m━━━━━━━━━━━━━━━━━━━━\u001b[0m\u001b[37m\u001b[0m \u001b[1m0s\u001b[0m 5ms/step\n"
          ]
        },
        {
          "output_type": "stream",
          "name": "stderr",
          "text": [
            "/usr/local/lib/python3.10/dist-packages/keras/src/layers/rnn/rnn.py:204: UserWarning: Do not pass an `input_shape`/`input_dim` argument to a layer. When using Sequential models, prefer using an `Input(shape)` object as the first layer in the model instead.\n",
            "  super().__init__(**kwargs)\n"
          ]
        },
        {
          "output_type": "stream",
          "name": "stdout",
          "text": [
            "\u001b[1m53/53\u001b[0m \u001b[32m━━━━━━━━━━━━━━━━━━━━\u001b[0m\u001b[37m\u001b[0m \u001b[1m1s\u001b[0m 6ms/step\n"
          ]
        },
        {
          "output_type": "stream",
          "name": "stderr",
          "text": [
            "/usr/local/lib/python3.10/dist-packages/keras/src/layers/rnn/rnn.py:204: UserWarning: Do not pass an `input_shape`/`input_dim` argument to a layer. When using Sequential models, prefer using an `Input(shape)` object as the first layer in the model instead.\n",
            "  super().__init__(**kwargs)\n"
          ]
        },
        {
          "output_type": "stream",
          "name": "stdout",
          "text": [
            "\u001b[1m53/53\u001b[0m \u001b[32m━━━━━━━━━━━━━━━━━━━━\u001b[0m\u001b[37m\u001b[0m \u001b[1m0s\u001b[0m 5ms/step\n"
          ]
        },
        {
          "output_type": "stream",
          "name": "stderr",
          "text": [
            "/usr/local/lib/python3.10/dist-packages/keras/src/layers/rnn/rnn.py:204: UserWarning: Do not pass an `input_shape`/`input_dim` argument to a layer. When using Sequential models, prefer using an `Input(shape)` object as the first layer in the model instead.\n",
            "  super().__init__(**kwargs)\n"
          ]
        },
        {
          "output_type": "stream",
          "name": "stdout",
          "text": [
            "\u001b[1m53/53\u001b[0m \u001b[32m━━━━━━━━━━━━━━━━━━━━\u001b[0m\u001b[37m\u001b[0m \u001b[1m0s\u001b[0m 4ms/step\n"
          ]
        },
        {
          "output_type": "stream",
          "name": "stderr",
          "text": [
            "/usr/local/lib/python3.10/dist-packages/keras/src/layers/rnn/rnn.py:204: UserWarning: Do not pass an `input_shape`/`input_dim` argument to a layer. When using Sequential models, prefer using an `Input(shape)` object as the first layer in the model instead.\n",
            "  super().__init__(**kwargs)\n"
          ]
        },
        {
          "output_type": "stream",
          "name": "stdout",
          "text": [
            "\u001b[1m53/53\u001b[0m \u001b[32m━━━━━━━━━━━━━━━━━━━━\u001b[0m\u001b[37m\u001b[0m \u001b[1m0s\u001b[0m 5ms/step\n"
          ]
        },
        {
          "output_type": "stream",
          "name": "stderr",
          "text": [
            "/usr/local/lib/python3.10/dist-packages/keras/src/layers/rnn/rnn.py:204: UserWarning: Do not pass an `input_shape`/`input_dim` argument to a layer. When using Sequential models, prefer using an `Input(shape)` object as the first layer in the model instead.\n",
            "  super().__init__(**kwargs)\n"
          ]
        },
        {
          "output_type": "stream",
          "name": "stdout",
          "text": [
            "\u001b[1m53/53\u001b[0m \u001b[32m━━━━━━━━━━━━━━━━━━━━\u001b[0m\u001b[37m\u001b[0m \u001b[1m0s\u001b[0m 5ms/step\n"
          ]
        },
        {
          "output_type": "stream",
          "name": "stderr",
          "text": [
            "/usr/local/lib/python3.10/dist-packages/keras/src/layers/rnn/rnn.py:204: UserWarning: Do not pass an `input_shape`/`input_dim` argument to a layer. When using Sequential models, prefer using an `Input(shape)` object as the first layer in the model instead.\n",
            "  super().__init__(**kwargs)\n"
          ]
        },
        {
          "output_type": "stream",
          "name": "stdout",
          "text": [
            "\u001b[1m53/53\u001b[0m \u001b[32m━━━━━━━━━━━━━━━━━━━━\u001b[0m\u001b[37m\u001b[0m \u001b[1m1s\u001b[0m 8ms/step\n"
          ]
        },
        {
          "output_type": "stream",
          "name": "stderr",
          "text": [
            "/usr/local/lib/python3.10/dist-packages/keras/src/layers/rnn/rnn.py:204: UserWarning: Do not pass an `input_shape`/`input_dim` argument to a layer. When using Sequential models, prefer using an `Input(shape)` object as the first layer in the model instead.\n",
            "  super().__init__(**kwargs)\n"
          ]
        },
        {
          "output_type": "stream",
          "name": "stdout",
          "text": [
            "\u001b[1m53/53\u001b[0m \u001b[32m━━━━━━━━━━━━━━━━━━━━\u001b[0m\u001b[37m\u001b[0m \u001b[1m0s\u001b[0m 5ms/step\n"
          ]
        },
        {
          "output_type": "stream",
          "name": "stderr",
          "text": [
            "/usr/local/lib/python3.10/dist-packages/keras/src/layers/rnn/rnn.py:204: UserWarning: Do not pass an `input_shape`/`input_dim` argument to a layer. When using Sequential models, prefer using an `Input(shape)` object as the first layer in the model instead.\n",
            "  super().__init__(**kwargs)\n"
          ]
        },
        {
          "output_type": "stream",
          "name": "stdout",
          "text": [
            "\u001b[1m53/53\u001b[0m \u001b[32m━━━━━━━━━━━━━━━━━━━━\u001b[0m\u001b[37m\u001b[0m \u001b[1m0s\u001b[0m 5ms/step\n"
          ]
        },
        {
          "output_type": "stream",
          "name": "stderr",
          "text": [
            "/usr/local/lib/python3.10/dist-packages/keras/src/layers/rnn/rnn.py:204: UserWarning: Do not pass an `input_shape`/`input_dim` argument to a layer. When using Sequential models, prefer using an `Input(shape)` object as the first layer in the model instead.\n",
            "  super().__init__(**kwargs)\n"
          ]
        },
        {
          "output_type": "stream",
          "name": "stdout",
          "text": [
            "\u001b[1m53/53\u001b[0m \u001b[32m━━━━━━━━━━━━━━━━━━━━\u001b[0m\u001b[37m\u001b[0m \u001b[1m0s\u001b[0m 5ms/step\n"
          ]
        },
        {
          "output_type": "stream",
          "name": "stderr",
          "text": [
            "/usr/local/lib/python3.10/dist-packages/keras/src/layers/rnn/rnn.py:204: UserWarning: Do not pass an `input_shape`/`input_dim` argument to a layer. When using Sequential models, prefer using an `Input(shape)` object as the first layer in the model instead.\n",
            "  super().__init__(**kwargs)\n"
          ]
        },
        {
          "output_type": "stream",
          "name": "stdout",
          "text": [
            "\u001b[1m53/53\u001b[0m \u001b[32m━━━━━━━━━━━━━━━━━━━━\u001b[0m\u001b[37m\u001b[0m \u001b[1m2s\u001b[0m 29ms/step\n"
          ]
        },
        {
          "output_type": "stream",
          "name": "stderr",
          "text": [
            "/usr/local/lib/python3.10/dist-packages/keras/src/layers/rnn/rnn.py:204: UserWarning: Do not pass an `input_shape`/`input_dim` argument to a layer. When using Sequential models, prefer using an `Input(shape)` object as the first layer in the model instead.\n",
            "  super().__init__(**kwargs)\n"
          ]
        },
        {
          "output_type": "stream",
          "name": "stdout",
          "text": [
            "\u001b[1m53/53\u001b[0m \u001b[32m━━━━━━━━━━━━━━━━━━━━\u001b[0m\u001b[37m\u001b[0m \u001b[1m0s\u001b[0m 5ms/step\n"
          ]
        },
        {
          "output_type": "stream",
          "name": "stderr",
          "text": [
            "/usr/local/lib/python3.10/dist-packages/keras/src/layers/rnn/rnn.py:204: UserWarning: Do not pass an `input_shape`/`input_dim` argument to a layer. When using Sequential models, prefer using an `Input(shape)` object as the first layer in the model instead.\n",
            "  super().__init__(**kwargs)\n"
          ]
        },
        {
          "output_type": "stream",
          "name": "stdout",
          "text": [
            "\u001b[1m53/53\u001b[0m \u001b[32m━━━━━━━━━━━━━━━━━━━━\u001b[0m\u001b[37m\u001b[0m \u001b[1m0s\u001b[0m 5ms/step\n"
          ]
        },
        {
          "output_type": "stream",
          "name": "stderr",
          "text": [
            "/usr/local/lib/python3.10/dist-packages/keras/src/layers/rnn/rnn.py:204: UserWarning: Do not pass an `input_shape`/`input_dim` argument to a layer. When using Sequential models, prefer using an `Input(shape)` object as the first layer in the model instead.\n",
            "  super().__init__(**kwargs)\n"
          ]
        },
        {
          "output_type": "stream",
          "name": "stdout",
          "text": [
            "\u001b[1m53/53\u001b[0m \u001b[32m━━━━━━━━━━━━━━━━━━━━\u001b[0m\u001b[37m\u001b[0m \u001b[1m1s\u001b[0m 7ms/step\n"
          ]
        },
        {
          "output_type": "stream",
          "name": "stderr",
          "text": [
            "/usr/local/lib/python3.10/dist-packages/keras/src/layers/rnn/rnn.py:204: UserWarning: Do not pass an `input_shape`/`input_dim` argument to a layer. When using Sequential models, prefer using an `Input(shape)` object as the first layer in the model instead.\n",
            "  super().__init__(**kwargs)\n"
          ]
        },
        {
          "output_type": "stream",
          "name": "stdout",
          "text": [
            "\u001b[1m53/53\u001b[0m \u001b[32m━━━━━━━━━━━━━━━━━━━━\u001b[0m\u001b[37m\u001b[0m \u001b[1m0s\u001b[0m 5ms/step\n"
          ]
        },
        {
          "output_type": "stream",
          "name": "stderr",
          "text": [
            "/usr/local/lib/python3.10/dist-packages/keras/src/layers/rnn/rnn.py:204: UserWarning: Do not pass an `input_shape`/`input_dim` argument to a layer. When using Sequential models, prefer using an `Input(shape)` object as the first layer in the model instead.\n",
            "  super().__init__(**kwargs)\n"
          ]
        },
        {
          "output_type": "stream",
          "name": "stdout",
          "text": [
            "\u001b[1m53/53\u001b[0m \u001b[32m━━━━━━━━━━━━━━━━━━━━\u001b[0m\u001b[37m\u001b[0m \u001b[1m0s\u001b[0m 5ms/step\n"
          ]
        },
        {
          "output_type": "stream",
          "name": "stderr",
          "text": [
            "/usr/local/lib/python3.10/dist-packages/keras/src/layers/rnn/rnn.py:204: UserWarning: Do not pass an `input_shape`/`input_dim` argument to a layer. When using Sequential models, prefer using an `Input(shape)` object as the first layer in the model instead.\n",
            "  super().__init__(**kwargs)\n"
          ]
        },
        {
          "output_type": "stream",
          "name": "stdout",
          "text": [
            "Best Hyperparameters:  {'lstm_units': 32, 'learning_rate': 0.01, 'dropout_rate': 0.3}\n",
            "\u001b[1m29/29\u001b[0m \u001b[32m━━━━━━━━━━━━━━━━━━━━\u001b[0m\u001b[37m\u001b[0m \u001b[1m0s\u001b[0m 10ms/step\n",
            "\u001b[1m29/29\u001b[0m \u001b[32m━━━━━━━━━━━━━━━━━━━━\u001b[0m\u001b[37m\u001b[0m \u001b[1m0s\u001b[0m 2ms/step \n",
            "ROC AUC: 0.5000\n",
            "Accuracy: 0.5131\n"
          ]
        },
        {
          "output_type": "display_data",
          "data": {
            "text/plain": [
              "<Figure size 800x600 with 2 Axes>"
            ],
            "image/png": "[encoded data removed]"
          },
          "metadata": {}
        },
        {
          "output_type": "stream",
          "name": "stdout",
          "text": [
            "              precision    recall  f1-score   support\n",
            "\n",
            "           0       0.00      0.00      0.00       446\n",
            "           1       0.51      1.00      0.68       470\n",
            "\n",
            "    accuracy                           0.51       916\n",
            "   macro avg       0.26      0.50      0.34       916\n",
            "weighted avg       0.26      0.51      0.35       916\n",
            "\n"
          ]
        },
        {
          "output_type": "stream",
          "name": "stderr",
          "text": [
            "/usr/local/lib/python3.10/dist-packages/sklearn/metrics/_classification.py:1344: UndefinedMetricWarning: Precision and F-score are ill-defined and being set to 0.0 in labels with no predicted samples. Use `zero_division` parameter to control this behavior.\n",
            "  _warn_prf(average, modifier, msg_start, len(result))\n",
            "/usr/local/lib/python3.10/dist-packages/sklearn/metrics/_classification.py:1344: UndefinedMetricWarning: Precision and F-score are ill-defined and being set to 0.0 in labels with no predicted samples. Use `zero_division` parameter to control this behavior.\n",
            "  _warn_prf(average, modifier, msg_start, len(result))\n",
            "/usr/local/lib/python3.10/dist-packages/sklearn/metrics/_classification.py:1344: UndefinedMetricWarning: Precision and F-score are ill-defined and being set to 0.0 in labels with no predicted samples. Use `zero_division` parameter to control this behavior.\n",
            "  _warn_prf(average, modifier, msg_start, len(result))\n"
          ]
        }
      ]
    },
    {
      "cell_type": "markdown",
      "source": [
        "The provided code implements a machine learning pipeline tailored for classification tasks using a Long Short-Term Memory (LSTM) neural network, a type of recurrent neural network (RNN) known for its ability to capture sequential patterns in data. The pipeline is designed to work with financial data, likely for predicting the future direction of a specific asset such as the S&P 500 index. The dataset includes various financial indicators like stock indices (e.g., FTSE, EuroStoxx50, S&P 500), bond yields (e.g., French-2Y, US-10Y), commodity prices (e.g., Gold, CRB), and possibly other economic metrics relevant to financial markets.\n",
        "\n",
        "The code begins with standard data preprocessing steps, including removing samples with missing values and scaling features using MinMaxScaler. This ensures that all features are on a similar scale, which is important for neural network models to perform effectively.\n",
        "\n",
        "Next, a custom Keras LSTM classifier (KerasLSTMClassifier) is defined, which inherits from scikit-learn's BaseEstimator and ClassifierMixin. This design enables seamless integration of the LSTM model with scikit-learn's cross-validation and evaluation tools. The LSTM model architecture is specified within the create_model method, comprising an LSTM layer followed by dropout layers to prevent overfitting, and dense layers with activation functions to learn complex patterns from the sequential data.\n",
        "\n",
        "Hyperparameter tuning is performed using randomized search cross-validation (RandomizedSearchCV) to find the optimal combination of hyperparameters for the LSTM model. The hyperparameters considered for tuning include the number of LSTM units, dropout rate, and learning rate. By searching through different combinations of these hyperparameters, the algorithm aims to identify the configuration that yields the best performance on the validation data.\n",
        "\n",
        "Once the hyperparameter tuning is complete, the best model obtained from the search is evaluated on the test set. Performance metrics such as ROC AUC score and accuracy are calculated to assess the model's ability to predict the target variable, which likely indicates the future direction of the asset under consideration. Additionally, a confusion matrix and classification report are generated to provide insights into the model's classification accuracy and performance across different classes.\n",
        "\n",
        "However, despite the thorough implementation and evaluation process, the output results show a ROC AUC of 0.5000 and an accuracy of 0.5131, indicating that the model's performance is not significantly better than random guessing. This suggests that the current model architecture or the selected features might not be sufficient for capturing the underlying patterns in the financial data. Further experimentation with different model architectures, feature engineering techniques, or additional preprocessing steps may be necessary to improve the model's predictive performance."
      ],
      "metadata": {
        "id": "UTIOdRM8TiOb"
      }
    },
    {
      "cell_type": "code",
      "source": [],
      "metadata": {
        "id": "XDiWOcRV4FN4"
      },
      "execution_count": null,
      "outputs": []
    }
  ]
}